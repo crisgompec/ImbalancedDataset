{
 "cells": [
  {
   "cell_type": "markdown",
   "metadata": {},
   "source": [
    "# Results "
   ]
  },
  {
   "cell_type": "markdown",
   "metadata": {},
   "source": [
    "## Description\n",
    "In this notebook, we will compare multiple classifiers from different perspectives:\n",
    "1. Accuracy vs. Imbalance\n",
    "2. Risk curves\n",
    "3. Losses vs. Iterations\n",
    "\n",
    "The following classifiers are considered:\n",
    " - Bagging\n",
    " - AdaBoost\n",
    " - AdaCost\n",
    " - Boosting SVM?\n",
    " - AdaMEC\n",
    " - XGBoost\n",
    "\n"
   ]
  },
  {
   "cell_type": "code",
   "execution_count": 1,
   "metadata": {},
   "outputs": [
    {
     "name": "stderr",
     "output_type": "stream",
     "text": [
      "/home/miguel/anaconda3/lib/python3.7/site-packages/dask/config.py:168: YAMLLoadWarning: calling yaml.load() without Loader=... is deprecated, as the default Loader is unsafe. Please read https://msg.pyyaml.org/load for full details.\n",
      "  data = yaml.load(f.read()) or {}\n",
      "/home/miguel/anaconda3/lib/python3.7/site-packages/distributed/config.py:20: YAMLLoadWarning: calling yaml.load() without Loader=... is deprecated, as the default Loader is unsafe. Please read https://msg.pyyaml.org/load for full details.\n",
      "  defaults = yaml.load(f)\n"
     ]
    }
   ],
   "source": [
    "# Libraries\n",
    "from classifiers import *\n",
    "from sklearn.model_selection import train_test_split\n",
    "import pandas as pd\n",
    "from sklearn.preprocessing import StandardScaler\n",
    "from tqdm import tqdm\n",
    "# from sklearn.ensemble import AdaBoostClassifier\n",
    "import matplotlib.pyplot as plt\n",
    "import seaborn as sns; sns.set()\n",
    "from sklearn.metrics import accuracy_score, f1_score\n",
    "from xgboost import XGBClassifier"
   ]
  },
  {
   "cell_type": "code",
   "execution_count": 2,
   "metadata": {},
   "outputs": [],
   "source": [
    "# Functions (if any)\n"
   ]
  },
  {
   "cell_type": "markdown",
   "metadata": {},
   "source": [
    "### Load Data"
   ]
  },
  {
   "cell_type": "code",
   "execution_count": 3,
   "metadata": {},
   "outputs": [],
   "source": [
    "scaler = StandardScaler()\n",
    "data = pd.read_pickle(\"./data_no_cathegorical.pkl\")\n",
    "\n",
    "X = data.values[:,:-1]\n",
    "scaler.fit(X)\n",
    "X = scaler.transform(X)\n",
    "Y = data.values[:,-1]\n",
    "\n",
    "# Split data into train and test sets\n",
    "seed = 10\n",
    "test_size = 0.33\n",
    "X_train, X_test, y_train, y_test = train_test_split(X, Y, test_size=test_size, random_state=seed)\n",
    "\n",
    "# Labels for this algortihm has to be either 1 or -1\n",
    "y_train = np.where(y_train < 0.5, -1, 1)\n",
    "y_test = np.where(y_test < 0.5, -1, 1)"
   ]
  },
  {
   "cell_type": "markdown",
   "metadata": {},
   "source": [
    "## Graph 1: Accuracy vs. Imbalance"
   ]
  },
  {
   "cell_type": "code",
   "execution_count": 4,
   "metadata": {
    "scrolled": true
   },
   "outputs": [
    {
     "name": "stdout",
     "output_type": "stream",
     "text": [
      "0.7293164556962025 0.2706835443037975\n"
     ]
    }
   ],
   "source": [
    "# Get priors\n",
    "prior0 = len(np.where(y_train==-1)[0])/len(y_train)\n",
    "prior1 = len(np.where(y_train==1)[0])/len(y_train)\n",
    "print(prior0,prior1)"
   ]
  },
  {
   "cell_type": "code",
   "execution_count": 5,
   "metadata": {},
   "outputs": [
    {
     "name": "stdout",
     "output_type": "stream",
     "text": [
      "[0.7080124528920203, 0.6830873199359773, 0.6534871661913404, 0.6178152702316271, 0.5739560089257252, 0.5186819123075538, 0.4469845867383883, 0.350109409190372, 0.21220159151193635]\n"
     ]
    }
   ],
   "source": [
    "# We will undersample class -1 until we revert the imbalance\n",
    "X_train_0 = X_train[np.where(y_train==-1)[0],:]\n",
    "X_train_1 = X_train[np.where(y_train==1)[0],:]\n",
    "y_train_0 = y_train[np.where(y_train==-1)[0]]\n",
    "y_train_1 = y_train[np.where(y_train==1)[0]]\n",
    "\n",
    "x_train_sets = [np.r_[X_train_0[:int(len(X_train_0)*pctg),:], X_train_1] for pctg in [0.9, 0.8, 0.7, 0.6, 0.5, 0.4, 0.3, 0.2, 0.1]]\n",
    "y_train_sets = [np.r_[y_train_0[:int(len(X_train_0)*pctg)], y_train_1] for pctg in [0.9, 0.8, 0.7, 0.6, 0.5, 0.4, 0.3, 0.2, 0.1]]\n",
    "\n",
    "# Get new imbalances\n",
    "imbalances = []\n",
    "for y_train in y_train_sets:\n",
    "    imbalances.append(len(np.where(y_train==-1)[0])/len(y_train))\n",
    "print(imbalances)"
   ]
  },
  {
   "cell_type": "code",
   "execution_count": 6,
   "metadata": {},
   "outputs": [
    {
     "name": "stdout",
     "output_type": "stream",
     "text": [
      "AdaBoost - OK\n"
     ]
    }
   ],
   "source": [
    "# Get classifier for each imbalanced dataset\n",
    "# ADABOOST\n",
    "# AdaBoost_set = [AdaBoostClassifier(n_estimators=100).fit(X_train,y_train) for X_train,y_train in zip(x_train_sets, y_train_sets)]\n",
    "AdaBoost_set = [AdaboostClassifier().fit(X_train,y_train) for X_train,y_train in zip(x_train_sets, y_train_sets)]\n",
    "\n",
    "print('AdaBoost - OK')"
   ]
  },
  {
   "cell_type": "code",
   "execution_count": 7,
   "metadata": {},
   "outputs": [
    {
     "name": "stdout",
     "output_type": "stream",
     "text": [
      "AdaCost - OK\n"
     ]
    }
   ],
   "source": [
    "# ADACOST\n",
    "AdaCost_set = []\n",
    "for X_train,y_train in zip(x_train_sets, y_train_sets):\n",
    "    ac = AdaCost(n_iterations=100)\n",
    "    ac.fit(X_train,y_train,cost=-0.4)\n",
    "    AdaCost_set.append(ac)\n",
    "     \n",
    "print('AdaCost - OK')"
   ]
  },
  {
   "cell_type": "code",
   "execution_count": 8,
   "metadata": {},
   "outputs": [
    {
     "name": "stdout",
     "output_type": "stream",
     "text": [
      "AdaMEC - OK\n"
     ]
    }
   ],
   "source": [
    "# ADAMEC\n",
    "AdaMEC_set = [AdaMEC(n_iterations=100).fit(X_train,y_train) for X_train,y_train in zip(x_train_sets, y_train_sets)]\n",
    "print('AdaMEC - OK')\n"
   ]
  },
  {
   "cell_type": "code",
   "execution_count": 9,
   "metadata": {},
   "outputs": [
    {
     "name": "stdout",
     "output_type": "stream",
     "text": [
      "XGBoost - OK\n"
     ]
    }
   ],
   "source": [
    "# XGBOOST\n",
    "XGBoost_set = [XGBClassifier().fit(X_train,y_train) for X_train,y_train in zip(x_train_sets, y_train_sets)]\n",
    "print('XGBoost - OK')"
   ]
  },
  {
   "cell_type": "code",
   "execution_count": 10,
   "metadata": {},
   "outputs": [
    {
     "name": "stdout",
     "output_type": "stream",
     "text": [
      "Bagging - OK\n"
     ]
    }
   ],
   "source": [
    "# Bagging\n",
    "Bagging_set = []\n",
    "for X_train,y_train in zip(x_train_sets, y_train_sets):\n",
    "    bagging_model = Bagging_classifier(type_classifier=\"SVM\")\n",
    "    bagging_model.fit(X_train,y_train)\n",
    "    Bagging_set.append(bagging_model)\n",
    "     \n",
    "print('Bagging - OK')"
   ]
  },
  {
   "cell_type": "code",
   "execution_count": 12,
   "metadata": {},
   "outputs": [
    {
     "data": {
      "text/plain": [
       "<matplotlib.legend.Legend at 0x7fcee1eeb1d0>"
      ]
     },
     "execution_count": 12,
     "metadata": {},
     "output_type": "execute_result"
    },
    {
     "data": {
      "image/png": "[encoded data removed]",
      "text/plain": [
       "<Figure size 432x288 with 1 Axes>"
      ]
     },
     "metadata": {
      "needs_background": "light"
     },
     "output_type": "display_data"
    }
   ],
   "source": [
    "classifier_label = ['AdaBoost Classifier', 'AdaCost with c=0.4','AdaMEC','XGBoost','Bagging']\n",
    "classifier_color = ['blue','green','orange','magenta','red']\n",
    "cont = 0\n",
    "plt.figure()\n",
    "for classifiers in [AdaBoost_set, AdaCost_set, AdaMEC_set, XGBoost_set, Bagging_set]:\n",
    "    acc = []\n",
    "    f1 = []\n",
    "    # Calculate accuracies\n",
    "    for classifier in classifiers:\n",
    "        acc.append(accuracy_score(classifier.predict(X_test),y_test))\n",
    "        f1.append(f1_score(classifier.predict(X_test),y_test))\n",
    "    \n",
    "    plt.plot(imbalances, f1,'-o', color = classifier_color[cont],label = classifier_label[cont])\n",
    "    plt.plot(imbalances, acc,'-+', color = classifier_color[cont])\n",
    "    \n",
    "    cont += 1\n",
    "\n",
    "plt.title('Perfomance Comparison')\n",
    "plt.xlabel('Human class Imbalance')\n",
    "plt.ylabel('Score (%)')\n",
    "plt.legend()\n"
   ]
  },
  {
   "cell_type": "markdown",
   "metadata": {},
   "source": [
    "### Plot"
   ]
  },
  {
   "cell_type": "code",
   "execution_count": 13,
   "metadata": {},
   "outputs": [],
   "source": [
    "# TODO: Add bagging\n",
    "# SVM?"
   ]
  },
  {
   "cell_type": "markdown",
   "metadata": {},
   "source": [
    "### Graph 2: Risk curves"
   ]
  },
  {
   "cell_type": "code",
   "execution_count": null,
   "metadata": {},
   "outputs": [],
   "source": []
  },
  {
   "cell_type": "markdown",
   "metadata": {},
   "source": [
    "### Graph 3: Losses vs. Iterations"
   ]
  }
 ],
 "metadata": {
  "kernelspec": {
   "display_name": "Python 3",
   "language": "python",
   "name": "python3"
  },
  "language_info": {
   "codemirror_mode": {
    "name": "ipython",
    "version": 3
   },
   "file_extension": ".py",
   "mimetype": "text/x-python",
   "name": "python",
   "nbconvert_exporter": "python",
   "pygments_lexer": "ipython3",
   "version": "3.7.3"
  }
 },
 "nbformat": 4,
 "nbformat_minor": 4
}
