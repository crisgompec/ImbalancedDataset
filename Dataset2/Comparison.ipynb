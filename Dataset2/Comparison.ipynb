{
 "cells": [
  {
   "cell_type": "markdown",
   "metadata": {},
   "source": [
    "# Results "
   ]
  },
  {
   "cell_type": "markdown",
   "metadata": {},
   "source": [
    "## Description\n",
    "In this notebook, we will compare multiple classifiers from different perspectives:\n",
    "1. Accuracy vs. Imbalance\n",
    "2. Risk curves\n",
    "3. Losses vs. Iterations\n",
    "\n",
    "The following classifiers are considered:\n",
    " - Bagging\n",
    " - AdaBoost\n",
    " - AdaCost\n",
    " - Boosting SVM?\n",
    " - AdaMEC\n",
    " - XGBoost\n",
    "\n"
   ]
  },
  {
   "cell_type": "code",
   "execution_count": 36,
   "metadata": {},
   "outputs": [],
   "source": [
    "# Libraries\n",
    "from classifiers import *\n",
    "from sklearn.model_selection import train_test_split\n",
    "import pandas as pd\n",
    "from sklearn.preprocessing import StandardScaler\n",
    "from tqdm import tqdm\n",
    "# from sklearn.ensemble import AdaBoostClassifier\n",
    "import matplotlib.pyplot as plt\n",
    "import seaborn as sns; sns.set()\n",
    "from sklearn.metrics import accuracy_score, f1_score\n",
    "from xgboost import XGBClassifier"
   ]
  },
  {
   "cell_type": "code",
   "execution_count": 37,
   "metadata": {},
   "outputs": [],
   "source": [
    "# Functions (if any)\n"
   ]
  },
  {
   "cell_type": "markdown",
   "metadata": {},
   "source": [
    "### Load Data"
   ]
  },
  {
   "cell_type": "code",
   "execution_count": 38,
   "metadata": {},
   "outputs": [],
   "source": [
    "scaler = StandardScaler()\n",
    "data = pd.read_pickle(\"./data_no_cathegorical.pkl\")\n",
    "\n",
    "X = data.values[:,:-1]\n",
    "scaler.fit(X)\n",
    "X = scaler.transform(X)\n",
    "Y = data.values[:,-1]\n",
    "\n",
    "# Split data into train and test sets\n",
    "seed = 10\n",
    "test_size = 0.33\n",
    "X_train, X_test, y_train, y_test = train_test_split(X, Y, test_size=test_size, random_state=seed)\n",
    "\n",
    "# Labels for this algortihm has to be either 1 or -1\n",
    "y_train = np.where(y_train < 0.5, -1, 1)\n",
    "y_test = np.where(y_test < 0.5, -1, 1)"
   ]
  },
  {
   "cell_type": "markdown",
   "metadata": {},
   "source": [
    "## Graph 1: Accuracy vs. Imbalance"
   ]
  },
  {
   "cell_type": "code",
   "execution_count": 39,
   "metadata": {
    "scrolled": true
   },
   "outputs": [
    {
     "name": "stdout",
     "output_type": "stream",
     "text": [
      "0.7293164556962025 0.2706835443037975\n"
     ]
    }
   ],
   "source": [
    "# Get priors\n",
    "prior0 = len(np.where(y_train==-1)[0])/len(y_train)\n",
    "prior1 = len(np.where(y_train==1)[0])/len(y_train)\n",
    "print(prior0,prior1)"
   ]
  },
  {
   "cell_type": "code",
   "execution_count": 40,
   "metadata": {},
   "outputs": [
    {
     "name": "stdout",
     "output_type": "stream",
     "text": [
      "[0.7080124528920203, 0.6830873199359773, 0.6534871661913404, 0.6178152702316271, 0.5739560089257252, 0.5186819123075538, 0.4469845867383883, 0.350109409190372, 0.21220159151193635]\n"
     ]
    }
   ],
   "source": [
    "# We will undersample class -1 until we revert the imbalance\n",
    "X_train_0 = X_train[np.where(y_train==-1)[0],:]\n",
    "X_train_1 = X_train[np.where(y_train==1)[0],:]\n",
    "y_train_0 = y_train[np.where(y_train==-1)[0]]\n",
    "y_train_1 = y_train[np.where(y_train==1)[0]]\n",
    "\n",
    "x_train_sets = [np.r_[X_train_0[:int(len(X_train_0)*pctg),:], X_train_1] for pctg in [0.9, 0.8, 0.7, 0.6, 0.5, 0.4, 0.3, 0.2, 0.1]]\n",
    "y_train_sets = [np.r_[y_train_0[:int(len(X_train_0)*pctg)], y_train_1] for pctg in [0.9, 0.8, 0.7, 0.6, 0.5, 0.4, 0.3, 0.2, 0.1]]\n",
    "\n",
    "# Get new imbalances\n",
    "imbalances = []\n",
    "for y_train in y_train_sets:\n",
    "    imbalances.append(len(np.where(y_train==-1)[0])/len(y_train))\n",
    "print(imbalances)"
   ]
  },
  {
   "cell_type": "code",
   "execution_count": 41,
   "metadata": {},
   "outputs": [
    {
     "name": "stdout",
     "output_type": "stream",
     "text": [
      "AdaBoost - OK\n"
     ]
    }
   ],
   "source": [
    "# Get classifier for each imbalanced dataset\n",
    "# ADABOOST\n",
    "AdaBoost_set = [AdaBoostClassifier(n_estimators=100).fit(X_train,y_train) for X_train,y_train in zip(x_train_sets, y_train_sets)]\n",
    "# AdaBoost_set = [AdaboostClassifier().fit(X_train,y_train) for X_train,y_train in zip(x_train_sets, y_train_sets)]\n",
    "\n",
    "print('AdaBoost - OK')"
   ]
  },
  {
   "cell_type": "code",
   "execution_count": 42,
   "metadata": {},
   "outputs": [
    {
     "name": "stdout",
     "output_type": "stream",
     "text": [
      "AdaCost - OK\n"
     ]
    }
   ],
   "source": [
    "# ADACOST\n",
    "AdaCost_set = []\n",
    "for X_train,y_train in zip(x_train_sets, y_train_sets):\n",
    "    ac = AdaCost(n_iterations=100)\n",
    "    ac.fit(X_train,y_train,cost=0.4)\n",
    "    AdaCost_set.append(ac)\n",
    "     \n",
    "print('AdaCost - OK')"
   ]
  },
  {
   "cell_type": "code",
   "execution_count": 43,
   "metadata": {},
   "outputs": [
    {
     "name": "stdout",
     "output_type": "stream",
     "text": [
      "AdaMEC - OK\n"
     ]
    }
   ],
   "source": [
    "# ADAMEC\n",
    "AdaMEC_set = [AdaMEC(n_iterations=100).fit(X_train,y_train) for X_train,y_train in zip(x_train_sets, y_train_sets)]\n",
    "print('AdaMEC - OK')\n"
   ]
  },
  {
   "cell_type": "code",
   "execution_count": 44,
   "metadata": {},
   "outputs": [
    {
     "name": "stdout",
     "output_type": "stream",
     "text": [
      "XGBoost - OK\n"
     ]
    }
   ],
   "source": [
    "# XGBOOST\n",
    "XGBoost_set = [XGBClassifier().fit(X_train,y_train) for X_train,y_train in zip(x_train_sets, y_train_sets)]\n",
    "print('XGBoost - OK')"
   ]
  },
  {
   "cell_type": "code",
   "execution_count": 45,
   "metadata": {},
   "outputs": [
    {
     "name": "stdout",
     "output_type": "stream",
     "text": [
      "Bagging - OK\n"
     ]
    }
   ],
   "source": [
    "# Bagging\n",
    "Bagging_set = []\n",
    "for X_train,y_train in zip(x_train_sets, y_train_sets):\n",
    "    bagging_model = Bagging_classifier(type_classifier=\"SVM\")\n",
    "    bagging_model.fit(X_train,y_train)\n",
    "    Bagging_set.append(bagging_model)\n",
    "     \n",
    "print('Bagging - OK')"
   ]
  },
  {
   "cell_type": "code",
   "execution_count": 46,
   "metadata": {},
   "outputs": [
    {
     "data": {
      "image/png": "[encoded data removed]",
      "text/plain": [
       "<Figure size 864x360 with 2 Axes>"
      ]
     },
     "metadata": {},
     "output_type": "display_data"
    }
   ],
   "source": [
    "classifier_label = ['AdaBoost Classifier', 'AdaCost with c=0.4','AdaMEC','XGBoost','Bagging']\n",
    "classifier_color = ['blue','green','orange','magenta','red']\n",
    "cont = 0\n",
    "f = plt.figure(figsize=(12,5))\n",
    "ax1 = plt.subplot(121)\n",
    "ax2 = plt.subplot(122)\n",
    "for classifiers in [AdaBoost_set, AdaCost_set, AdaMEC_set, XGBoost_set, Bagging_set]:\n",
    "    acc = []\n",
    "    f1 = []\n",
    "    # Calculate accuracies\n",
    "    for classifier in classifiers:\n",
    "        acc.append(accuracy_score(classifier.predict(X_test),y_test))\n",
    "        f1.append(f1_score(classifier.predict(X_test),y_test))\n",
    "        \n",
    "    ax1.plot(imbalances, f1,'-o', color = classifier_color[cont],label = classifier_label[cont])\n",
    "    ax2.plot(imbalances, acc,'-*', color = classifier_color[cont],label = classifier_label[cont])\n",
    "    \n",
    "    cont += 1\n",
    "\n",
    "ax1.set_title('F1 Score Comparison', fontsize = 18)\n",
    "ax2.set_title('Accuracy Comparison', fontsize = 18)\n",
    "ax1.set_xlabel('Human class Imbalance', fontsize = 16)\n",
    "ax2.set_xlabel('Human class Imbalance', fontsize = 16)\n",
    "ax1.set_ylabel('Score (%)', fontsize = 16)\n",
    "ax2.set_ylabel('Score (%)', fontsize = 16)\n",
    "ax1.legend()\n",
    "ax2.legend()\n",
    "plt.savefig('../WriteUp/pictures/Imbalance_Comparison.png')\n",
    "plt.show()\n"
   ]
  },
  {
   "cell_type": "code",
   "execution_count": 27,
   "metadata": {},
   "outputs": [
    {
     "data": {
      "text/plain": [
       "<Figure size 432x288 with 0 Axes>"
      ]
     },
     "metadata": {},
     "output_type": "display_data"
    }
   ],
   "source": []
  },
  {
   "cell_type": "code",
   "execution_count": null,
   "metadata": {},
   "outputs": [],
   "source": []
  },
  {
   "cell_type": "markdown",
   "metadata": {},
   "source": [
    "### Plot"
   ]
  },
  {
   "cell_type": "code",
   "execution_count": 13,
   "metadata": {},
   "outputs": [],
   "source": [
    "# TODO: Add bagging\n",
    "# SVM?"
   ]
  },
  {
   "cell_type": "code",
   "execution_count": null,
   "metadata": {},
   "outputs": [],
   "source": []
  },
  {
   "cell_type": "code",
   "execution_count": null,
   "metadata": {},
   "outputs": [],
   "source": []
  },
  {
   "cell_type": "code",
   "execution_count": null,
   "metadata": {},
   "outputs": [],
   "source": []
  },
  {
   "cell_type": "markdown",
   "metadata": {},
   "source": [
    "### Graph 2: Risk curves"
   ]
  },
  {
   "cell_type": "code",
   "execution_count": 47,
   "metadata": {},
   "outputs": [],
   "source": [
    "scaler = StandardScaler()\n",
    "data = pd.read_pickle(\"./data_no_cathegorical.pkl\")\n",
    "\n",
    "X = data.values[:,:-1]\n",
    "scaler.fit(X)\n",
    "X = scaler.transform(X)\n",
    "Y = data.values[:,-1]\n",
    "\n",
    "# Split data into train and test sets\n",
    "seed = 10\n",
    "test_size = 0.33\n",
    "X_train, X_test, y_train, y_test = train_test_split(X, Y, test_size=test_size, random_state=seed)\n",
    "\n",
    "# Labels for this algortihm has to be either 1 or -1\n",
    "y_train = np.where(y_train < 0.5, -1, 1)\n",
    "y_test = np.where(y_test < 0.5, -1, 1)"
   ]
  },
  {
   "cell_type": "code",
   "execution_count": 48,
   "metadata": {},
   "outputs": [],
   "source": [
    "n_learners_list = [1,5,10,20,50,75,100,150,200]"
   ]
  },
  {
   "cell_type": "code",
   "execution_count": 49,
   "metadata": {},
   "outputs": [
    {
     "name": "stdout",
     "output_type": "stream",
     "text": [
      "AdaBoost - OK\n",
      "AdaCost - OK\n",
      "AdaMEC - OK\n",
      "XGBoost - OK\n",
      "Bagging - OK\n"
     ]
    }
   ],
   "source": [
    "# ADABOOST\n",
    "# AdaBoost_set = [AdaBoostClassifier(n_estimators = n_learners).fit(X_train,y_train) for n_learners in n_learners_list]\n",
    "AdaBoost_set = []\n",
    "for n_learners in n_learners_list:\n",
    "    ab = AdaboostClassifier(n_iterations=n_learners)\n",
    "    ab.fit(X_train,y_train)\n",
    "    AdaBoost_set.append(ab)\n",
    "    \n",
    "print('AdaBoost - OK')\n",
    "\n",
    "# ADACOST\n",
    "AdaCost_set = []\n",
    "for n_learners in n_learners_list:\n",
    "    ac = AdaCost(n_iterations=n_learners)\n",
    "    ac.fit(X_train,y_train,cost=-0.4)\n",
    "    AdaCost_set.append(ac)\n",
    "     \n",
    "print('AdaCost - OK')\n",
    "\n",
    "# ADAMEC\n",
    "AdaMEC_set = [AdaMEC(n_iterations=n_learners).fit(X_train,y_train) for n_learners in n_learners_list]\n",
    "print('AdaMEC - OK')\n",
    "\n",
    "# XGBOOST\n",
    "XGBoost_set = [XGBClassifier(n_estimators=n_learners).fit(X_train,y_train) for n_learners in n_learners_list]\n",
    "print('XGBoost - OK')\n",
    "\n",
    "# Bagging\n",
    "Bagging_set = []\n",
    "for n_learners in n_learners_list:\n",
    "    bagging_model = Bagging_classifier(type_classifier=\"SVM\",n_iterations = n_learners)\n",
    "    bagging_model.fit(X_train,y_train)\n",
    "    Bagging_set.append(bagging_model)\n",
    "     \n",
    "print('Bagging - OK')"
   ]
  },
  {
   "cell_type": "code",
   "execution_count": null,
   "metadata": {},
   "outputs": [],
   "source": [
    "classifier_label = ['AdaBoost Classifier', 'AdaCost with c=0.4','AdaMEC','XGBoost','Bagging']\n",
    "classifier_color = ['blue','green','orange','magenta','red']\n",
    "cont = 0\n",
    "plt.figure()\n",
    "for classifiers in [AdaBoost_set, AdaCost_set, AdaMEC_set, XGBoost_set, Bagging_set]:\n",
    "    empirical_risk_list = []\n",
    "    true_risk_list = []\n",
    "    # Calculate accuracies\n",
    "    for classifier in classifiers:\n",
    "        \n",
    "        incorrect_pred_emp = 0\n",
    "        incorrect_pred_true = 0\n",
    "        \n",
    "        pred_train = classifier.predict(X_train)\n",
    "        \n",
    "        for item in range(np.shape(X_train)[0]):\n",
    "            \n",
    "            if pred_train[item] != y_train[item]:\n",
    "                incorrect_pred_emp = incorrect_pred_emp + 1\n",
    "        \n",
    "        emp_risk =  incorrect_pred_emp/len(X_train)\n",
    "        \n",
    "        \n",
    "        pred_test = classifier.predict(X_test)\n",
    "        \n",
    "        for item in range(np.shape(X_test)[0]):\n",
    "            \n",
    "            if pred_test[item] != y_test[item]:\n",
    "                incorrect_pred_true = incorrect_pred_true + 1\n",
    "        \n",
    "        true_risk =  incorrect_pred_true/len(X_test)       \n",
    "        \n",
    "        \n",
    "        empirical_risk_list.append(emp_risk)\n",
    "        true_risk_list.append(true_risk)\n",
    "        \n",
    "        \n",
    "    #plt.plot(n_learners_list, empirical_risk_list,'-o', color = classifier_color[cont],label = classifier_label[cont])\n",
    "    plt.plot(n_learners_list, true_risk_list,'-*', color = classifier_color[cont],label = classifier_label[cont])\n",
    "   \n",
    "    cont += 1\n",
    "\n",
    "plt.title('True Risk')\n",
    "plt.xlabel('Complexity (number of weak learners)')\n",
    "plt.ylabel('Risk')\n",
    "plt.legend()"
   ]
  },
  {
   "cell_type": "markdown",
   "metadata": {},
   "source": [
    "### Graph 3: Losses vs. Iterations"
   ]
  },
  {
   "cell_type": "code",
   "execution_count": null,
   "metadata": {},
   "outputs": [],
   "source": []
  }
 ],
 "metadata": {
  "kernelspec": {
   "display_name": "Python 3",
   "language": "python",
   "name": "python3"
  },
  "language_info": {
   "codemirror_mode": {
    "name": "ipython",
    "version": 3
   },
   "file_extension": ".py",
   "mimetype": "text/x-python",
   "name": "python",
   "nbconvert_exporter": "python",
   "pygments_lexer": "ipython3",
   "version": "3.7.6"
  }
 },
 "nbformat": 4,
 "nbformat_minor": 4
}
