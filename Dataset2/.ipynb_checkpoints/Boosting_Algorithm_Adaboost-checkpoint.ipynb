{
 "cells": [
  {
   "cell_type": "code",
   "execution_count": 1,
   "metadata": {},
   "outputs": [],
   "source": [
    "import numpy as np\n",
    "import matplotlib.pyplot as plt\n",
    "from sklearn.model_selection import train_test_split\n",
    "from sklearn.metrics import accuracy_score\n",
    "import pandas as pd\n",
    "from sklearn.metrics import f1_score, roc_curve\n",
    "from sklearn.naive_bayes import GaussianNB\n",
    "from sklearn.tree import DecisionTreeClassifier\n",
    "from sklearn.metrics import f1_score, roc_curve"
   ]
  },
  {
   "cell_type": "code",
   "execution_count": 2,
   "metadata": {},
   "outputs": [],
   "source": [
    "data = pd.read_pickle(\"./data.pkl\")\n",
    "\n",
    "# split data into X and y\n",
    "X = data.loc[:, data.columns != 'bot']\n",
    "Y = data.loc[:, data.columns == 'bot'].to_numpy()\n",
    "\n",
    "# split data into train and test sets\n",
    "seed = 10\n",
    "test_size = 0.33\n",
    "X_train, X_test, y_train, y_test = train_test_split(X, Y, test_size=test_size, random_state=seed)"
   ]
  },
  {
   "cell_type": "code",
   "execution_count": 3,
   "metadata": {},
   "outputs": [],
   "source": [
    "# Labels for this algortihm has to be either 1 or -1\n",
    "y_train = np.where(y_train < 0.5, -1, 1)\n",
    "y_test = np.where(y_test < 0.5, -1, 1)\n",
    "\n",
    "y_train = y_train.flatten()\n",
    "y_test = y_test.flatten()"
   ]
  },
  {
   "cell_type": "code",
   "execution_count": 4,
   "metadata": {},
   "outputs": [],
   "source": [
    "number_iterations = 100\n",
    "\n",
    "number_samples = np.shape(X_train)[0]\n",
    "\n",
    "weights = np.ones(number_samples)/number_samples\n",
    "\n",
    "# There will be as many weak learners as iterations\n",
    "weak_learners = np.zeros(shape=number_iterations, dtype=object)\n",
    "\n",
    "significance_vec = np.zeros(shape=number_iterations)\n",
    "\n",
    "error_vec = []\n",
    "accuracy_vec = []\n",
    "\n",
    "for iterations in range(number_iterations):\n",
    "    \n",
    "    current_weights = weights\n",
    "    \n",
    "    weak_learner = DecisionTreeClassifier(max_depth=1, max_leaf_nodes=2)\n",
    "    weak_learner_model = weak_learner.fit(X_train, y_train, sample_weight=current_weights)\n",
    "    \n",
    "    \n",
    "    # The new weak learner model is saved\n",
    "    weak_learners[iterations] = weak_learner_model\n",
    "    \n",
    "    weak_learner_pred = weak_learner_model.predict(X_train)\n",
    "    \n",
    "    error = 0\n",
    "    incorrect_pred = 0\n",
    "    correct_pred = 0\n",
    "    \n",
    "    for item_index in range(number_samples):\n",
    "\n",
    "        if weak_learner_pred[item_index] != y_train[item_index]:\n",
    "            incorrect_pred = incorrect_pred + 1\n",
    "            error = error + current_weights[item_index]\n",
    "        else: \n",
    "            correct_pred = correct_pred + 1 \n",
    "            \n",
    "    # Save error for plotting    \n",
    "    error_vec.append(error)\n",
    "    \n",
    "    # Significance of the weak learner model is calculated and saved\n",
    "   \n",
    "    significance = 0.5*np.log((1-error)/error) \n",
    "        \n",
    "    significance_vec[iterations] = significance\n",
    "\n",
    "    #########################\n",
    "    \n",
    "    # Update weights for each sample\n",
    "    \n",
    "    for item_index in range(number_samples):\n",
    "        if weak_learner_pred[item_index] != y_train[item_index]:\n",
    "\n",
    "            weights[item_index] = np.multiply(current_weights[item_index],np.exp(significance))\n",
    "\n",
    "        else:\n",
    "            weights[item_index] = current_weights[item_index]*np.exp(-significance)\n",
    "     \n",
    "    # Alternative\n",
    "    # weights = current_weights * np.exp(-significance*  y_train * weak_learner_pred)\n",
    "    \n",
    "\n",
    "    #########################\n",
    "    \n",
    "    # Normalize weights\n",
    "    \n",
    "    weights /= weights.sum()\n",
    "\n",
    "    \n",
    "    \n",
    "    "
   ]
  },
  {
   "cell_type": "code",
   "execution_count": 5,
   "metadata": {},
   "outputs": [
    {
     "data": {
      "image/png": "[encoded data removed]",
      "text/plain": [
       "<Figure size 432x288 with 1 Axes>"
      ]
     },
     "metadata": {
      "needs_background": "light"
     },
     "output_type": "display_data"
    }
   ],
   "source": [
    "plt.plot(error_vec)\n",
    "plt.show()"
   ]
  },
  {
   "cell_type": "code",
   "execution_count": 6,
   "metadata": {},
   "outputs": [],
   "source": [
    "# Get prediction of each weak learner \n",
    "model_preds = np.array([model.predict(X_test) for model in weak_learners])\n",
    "y_test_pred = np.sign(np.dot(significance_vec, model_preds))"
   ]
  },
  {
   "cell_type": "code",
   "execution_count": 7,
   "metadata": {},
   "outputs": [
    {
     "name": "stdout",
     "output_type": "stream",
     "text": [
      "Accuracy = 0.7245063291139241\n"
     ]
    }
   ],
   "source": [
    "# Calculate accuracy \n",
    "\n",
    "for item_index in range(np.shape(y_test_pred)[0]):\n",
    "\n",
    "        if y_test_pred[item_index] == y_test[item_index]:\n",
    "\n",
    "            correct_pred = correct_pred + 1 \n",
    "            \n",
    "print(\"Accuracy = \" + str(correct_pred/number_samples))"
   ]
  },
  {
   "cell_type": "code",
   "execution_count": 8,
   "metadata": {},
   "outputs": [
    {
     "name": "stdout",
     "output_type": "stream",
     "text": [
      "F1 Score Adaboost: 0.8414968326746479\n"
     ]
    }
   ],
   "source": [
    "f1_score = f1_score(y_test, y_test_pred, average='weighted')\n",
    "print(\"F1 Score Adaboost: \" + str(f1_score))"
   ]
  }
 ],
 "metadata": {
  "kernelspec": {
   "display_name": "Python 3",
   "language": "python",
   "name": "python3"
  },
  "language_info": {
   "codemirror_mode": {
    "name": "ipython",
    "version": 3
   },
   "file_extension": ".py",
   "mimetype": "text/x-python",
   "name": "python",
   "nbconvert_exporter": "python",
   "pygments_lexer": "ipython3",
   "version": "3.7.3"
  }
 },
 "nbformat": 4,
 "nbformat_minor": 2
}
