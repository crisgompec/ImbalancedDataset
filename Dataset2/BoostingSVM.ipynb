{
 "cells": [
  {
   "cell_type": "markdown",
   "metadata": {},
   "source": [
    "# Implementation of Boosting Support Vector Machines"
   ]
  },
  {
   "cell_type": "code",
   "execution_count": 60,
   "metadata": {},
   "outputs": [],
   "source": [
    "# Libraries\n",
    "import numpy as np\n",
    "from sklearn.svm import SVC\n",
    "from sklearn.ensemble import AdaBoostClassifier\n",
    "import pandas as pd\n",
    "from sklearn.model_selection import train_test_split\n",
    "from sklearn.decomposition import PCA\n",
    "import matplotlib.pyplot as plt\n",
    "import seaborn as sns; sns.set()\n",
    "from sklearn.discriminant_analysis import LinearDiscriminantAnalysis as LDA"
   ]
  },
  {
   "cell_type": "markdown",
   "metadata": {},
   "source": [
    "## Classifier class"
   ]
  },
  {
   "cell_type": "code",
   "execution_count": 61,
   "metadata": {},
   "outputs": [],
   "source": [
    "class BoostingSVM:\n",
    "    def __init__(self, x=None,y=None, sigma_ini = 50, sigma_min = 10, sigma_step = 0.5):\n",
    "        \"\"\"\n",
    "        This is a custom implementation of the Boosting SVM algorithm. It is based \n",
    "        on the combination of Adaboost and RFB SVM weak learners. To create the model,\n",
    "        this class needs the following inputs:\n",
    "        \n",
    "        X_train: Training features. Size N x D\n",
    "        y_train: Training labels. Size N x 1\n",
    "\n",
    "        \"\"\"\n",
    "        self.sigma_ini = sigma_ini\n",
    "        self.sigma_step = sigma_step\n",
    "        self.sigma_min = sigma_min\n",
    "    \n",
    "    def fit(self,X_train,y_train):\n",
    "        sigma = self.sigma_ini \n",
    "        \n",
    "        # Initialize weights\n",
    "        number_samples = np.shape(X_train)[0]\n",
    "        weights = np.ones(number_samples)/number_samples\n",
    "        \n",
    "        # Define vectors to store weak predictors and significances of each iteration\n",
    "        self.weak_learners = [] #np.zeros(shape=self.number_iterations, dtype=object)\n",
    "        self.significance_vec = [] #np.zeros(shape=self.number_iterations)\n",
    "        self.error_debug = []\n",
    "        \n",
    "        # Todo: Apply dimensionality reduction\n",
    "        self.pca = PCA(n_components = 2).fit(X_train)\n",
    "        self.variance_explained = pca.explained_variance_ratio_\n",
    "        X_train = self.pca.fit_transform(X_train)\n",
    "        \n",
    "        #for iterations in range(self.number_iterations):\n",
    "        while sigma > self.sigma_min:\n",
    "            print('Sigma: %.1f' % sigma)\n",
    "            #print('BoostSVM iteration: %d' % (iterations))\n",
    "            current_weights = weights\n",
    "            \n",
    "            # Create and save week learner for this iteration\n",
    "            weak_learner = SVC(kernel='rbf', gamma = 1/2/sigma**2) #SVC(max_iter=10,tol=5)\n",
    "            weak_learner_model = weak_learner.fit(X_train, y_train, sample_weight=current_weights)\n",
    "\n",
    "            # The new weak learner model is saved\n",
    "            weak_learner_pred = weak_learner_model.predict(X_train)\n",
    "            \n",
    "            # Calculate error\n",
    "            error = np.sum(current_weights[np.where(weak_learner_pred != y_train)[0]]) \n",
    "            self.error_debug.append(error)\n",
    "            \n",
    "            if error > 0.5:\n",
    "                sigma = sigma - self.sigma_step\n",
    "            else:\n",
    "                # Significance of the weak learner model is calculated and saved\n",
    "                significance = 0.5*np.log((1-error)/error) \n",
    "                self.significance_vec.append(significance)\n",
    "                self.weak_learners.append(weak_learner_model)\n",
    "\n",
    "                # Update weights for each sample\n",
    "                idx_incorrect = np.where(weak_learner_pred != y_train)[0]\n",
    "                idx_correct = np.where(weak_learner_pred == y_train)[0]\n",
    "                weights[idx_incorrect] = np.multiply(current_weights[idx_incorrect],np.exp(significance))\n",
    "                weights[idx_correct] = current_weights[idx_correct]*np.exp(-significance)\n",
    "\n",
    "                # Normalize weights\n",
    "                weights /= weights.sum()\n",
    "        \n",
    "    def predict(self,X_test):\n",
    "        X_test_pca = self.pca.fit_transform(X_test)\n",
    "        model_preds = np.array([model.predict(X_test_pca) for model in self.weak_learners])\n",
    "        y_test_pred = np.sign(np.dot(self.significance_vec, model_preds))\n",
    "        return y_test_pred.astype(int)"
   ]
  },
  {
   "cell_type": "markdown",
   "metadata": {},
   "source": [
    "## Testing"
   ]
  },
  {
   "cell_type": "code",
   "execution_count": 62,
   "metadata": {},
   "outputs": [],
   "source": [
    "# Load data\n",
    "data = pd.read_pickle(\"./data_no_cathegorical.pkl\")\n",
    "\n",
    "X = data.values[:,:-1]\n",
    "Y = data.values[:,-1]\n",
    "\n",
    "# Split data into train and test sets\n",
    "seed = 10\n",
    "test_size = 0.33\n",
    "X_train, X_test, y_train, y_test = train_test_split(X, Y, test_size=test_size, random_state=seed)\n",
    "\n",
    "# Labels for this algortihm has to be either 1 or -1\n",
    "y_train = np.where(y_train < 0.5, -1, 1)\n",
    "y_test = np.where(y_test < 0.5, -1, 1)"
   ]
  },
  {
   "cell_type": "code",
   "execution_count": 66,
   "metadata": {},
   "outputs": [
    {
     "name": "stdout",
     "output_type": "stream",
     "text": [
      "VSC - OK\n",
      "Accuracy with default SVM:      0.7348\n"
     ]
    }
   ],
   "source": [
    "# Create models\n",
    "classifierSVM = SVC()\n",
    "#classifierBoostSVM = BoostingSVM()\n",
    "#classifierAda = AdaBoostClassifier(n_estimators=100)\n",
    "\n",
    "classifierSVM.fit(X_train, y_train)\n",
    "print('VSC - OK')\n",
    "#classifierBoostSVM.fit(X_train, y_train)\n",
    "#print('BoostSVM - OK')\n",
    "#classifierAda.fit(X_train, y_train)\n",
    "#print('AdaBoost - OK')\n",
    "\n",
    "SVMpredictions = classifierSVM.predict(X_test)\n",
    "#BoostSVMpredictions = classifierBoostSVM.predict(X_test)\n",
    "#Adapredictions = classifierAda.predict(X_test)\n",
    "\n",
    "print('Accuracy with default SVM:      %.4f' % (len(np.where(y_test==SVMpredictions)[0])/len(y_test)))\n",
    "#print('Accuracy with our Boosting SVM: %.4f' % (len(np.where(y_test==BoostSVMpredictions)[0])/len(y_test)))\n",
    "#print('Accuracy with AdaBoost:         %.4f' % (len(np.where(y_test==Adapredictions)[0])/len(y_test)))"
   ]
  },
  {
   "cell_type": "code",
   "execution_count": 64,
   "metadata": {},
   "outputs": [
    {
     "name": "stdout",
     "output_type": "stream",
     "text": [
      "Accuracy with our Boosting SVM: 0.7343\n"
     ]
    }
   ],
   "source": [
    "BoostSVMpredictions = classifierBoostSVM.predict(X_test)\n",
    "#Adapredictions = classifierAda.predict(X_test)\n",
    "\n",
    "#print('Accuracy with default SVM:      %.4f' % (len(np.where(y_test==SVMpredictions)[0])/len(y_test)))\n",
    "print('Accuracy with our Boosting SVM: %.4f' % (len(np.where(y_test==BoostSVMpredictions)[0])/len(y_test)))\n",
    "#print('Accuracy with AdaBoost:         %.4f' % (len(np.where(y_test==Adapredictions)[0])/len(y_test)))"
   ]
  },
  {
   "cell_type": "code",
   "execution_count": 58,
   "metadata": {},
   "outputs": [
    {
     "ename": "ValueError",
     "evalue": "shapes (2,) and (200,9729) not aligned: 2 (dim 0) != 200 (dim 0)",
     "output_type": "error",
     "traceback": [
      "\u001b[0;31m---------------------------------------------------------------------------\u001b[0m",
      "\u001b[0;31mValueError\u001b[0m                                Traceback (most recent call last)",
      "\u001b[0;32m<ipython-input-58-976ad5775d8e>\u001b[0m in \u001b[0;36m<module>\u001b[0;34m\u001b[0m\n\u001b[1;32m      1\u001b[0m \u001b[0mx_test_pca\u001b[0m \u001b[0;34m=\u001b[0m \u001b[0mclassifierBoostSVM\u001b[0m\u001b[0;34m.\u001b[0m\u001b[0mpca\u001b[0m\u001b[0;34m.\u001b[0m\u001b[0mfit_transform\u001b[0m\u001b[0;34m(\u001b[0m\u001b[0mX_test\u001b[0m\u001b[0;34m)\u001b[0m\u001b[0;34m\u001b[0m\u001b[0;34m\u001b[0m\u001b[0m\n\u001b[1;32m      2\u001b[0m \u001b[0mmodel_preds\u001b[0m \u001b[0;34m=\u001b[0m \u001b[0mnp\u001b[0m\u001b[0;34m.\u001b[0m\u001b[0marray\u001b[0m\u001b[0;34m(\u001b[0m\u001b[0;34m[\u001b[0m\u001b[0mmodel\u001b[0m\u001b[0;34m.\u001b[0m\u001b[0mpredict\u001b[0m\u001b[0;34m(\u001b[0m\u001b[0mx_test_pca\u001b[0m\u001b[0;34m)\u001b[0m \u001b[0;32mfor\u001b[0m \u001b[0mmodel\u001b[0m \u001b[0;32min\u001b[0m \u001b[0mclassifierBoostSVM\u001b[0m\u001b[0;34m.\u001b[0m\u001b[0mweak_learners\u001b[0m\u001b[0;34m]\u001b[0m\u001b[0;34m)\u001b[0m\u001b[0;34m\u001b[0m\u001b[0;34m\u001b[0m\u001b[0m\n\u001b[0;32m----> 3\u001b[0;31m \u001b[0my_test_pred\u001b[0m \u001b[0;34m=\u001b[0m \u001b[0mnp\u001b[0m\u001b[0;34m.\u001b[0m\u001b[0msign\u001b[0m\u001b[0;34m(\u001b[0m\u001b[0mnp\u001b[0m\u001b[0;34m.\u001b[0m\u001b[0mdot\u001b[0m\u001b[0;34m(\u001b[0m\u001b[0mclassifierBoostSVM\u001b[0m\u001b[0;34m.\u001b[0m\u001b[0msignificance_vec\u001b[0m\u001b[0;34m,\u001b[0m \u001b[0mmodel_preds\u001b[0m\u001b[0;34m)\u001b[0m\u001b[0;34m)\u001b[0m\u001b[0;34m\u001b[0m\u001b[0;34m\u001b[0m\u001b[0m\n\u001b[0m",
      "\u001b[0;32m<__array_function__ internals>\u001b[0m in \u001b[0;36mdot\u001b[0;34m(*args, **kwargs)\u001b[0m\n",
      "\u001b[0;31mValueError\u001b[0m: shapes (2,) and (200,9729) not aligned: 2 (dim 0) != 200 (dim 0)"
     ]
    }
   ],
   "source": [
    "x_test_pca = classifierBoostSVM.pca.fit_transform(X_test)\n",
    "model_preds = np.array([model.predict(x_test_pca) for model in classifierBoostSVM.weak_learners])\n",
    "y_test_pred = np.sign(np.dot(classifierBoostSVM.significance_vec, model_preds))"
   ]
  },
  {
   "cell_type": "code",
   "execution_count": 65,
   "metadata": {},
   "outputs": [
    {
     "data": {
      "text/plain": [
       "[<matplotlib.lines.Line2D at 0x1a17899690>]"
      ]
     },
     "execution_count": 65,
     "metadata": {},
     "output_type": "execute_result"
    },
    {
     "data": {
      "image/png": "[encoded data removed]",
      "text/plain": [
       "<Figure size 432x288 with 1 Axes>"
      ]
     },
     "metadata": {},
     "output_type": "display_data"
    }
   ],
   "source": [
    "plt.figure()\n",
    "plt.plot(classifierBoostSVM.error_debug)"
   ]
  },
  {
   "cell_type": "markdown",
   "metadata": {},
   "source": [
    "## Considering the option of dimension reduction to speed-up SVM boosting."
   ]
  },
  {
   "cell_type": "code",
   "execution_count": 48,
   "metadata": {},
   "outputs": [
    {
     "name": "stdout",
     "output_type": "stream",
     "text": [
      "[9.98720996e-01 7.70519718e-04]\n",
      "PCA(copy=True, iterated_power='auto', n_components=2, random_state=None,\n",
      "    svd_solver='auto', tol=0.0, whiten=False)\n"
     ]
    },
    {
     "data": {
      "text/plain": [
       "Text(0.5, 1.0, 'PCA')"
      ]
     },
     "execution_count": 48,
     "metadata": {},
     "output_type": "execute_result"
    },
    {
     "data": {
      "image/png": "[encoded data removed]",
      "text/plain": [
       "<Figure size 432x288 with 1 Axes>"
      ]
     },
     "metadata": {},
     "output_type": "display_data"
    }
   ],
   "source": [
    "# SVM is very slow as it is computationally expensive. \n",
    "# We will try to extract the most significant features to speed-up the algorithm\n",
    "\n",
    "# PCA\n",
    "pca = PCA(n_components = 2).fit(X_train)\n",
    "print(pca.explained_variance_ratio_)\n",
    "print(pca)\n",
    "Xnew_pca= pca.fit_transform(X_train)\n",
    "\n",
    "plt.figure()\n",
    "plt.plot(Xnew,y_train,'o')\n",
    "plt.title('PCA') \n",
    "\n",
    "# LDA\n",
    "#lda = LDA(n_components = 1)\n",
    "#Xnew_lda = lda.fit_transform(X_train, y_train)\n",
    "\n",
    "#plt.figure()\n",
    "#plt.plot(Xnew_lda,y_train.resha,'o')\n",
    "#plt.title('LDA')\n",
    "\n",
    "# We choose PCA!"
   ]
  },
  {
   "cell_type": "code",
   "execution_count": 42,
   "metadata": {},
   "outputs": [
    {
     "data": {
      "text/plain": [
       "(19750, 1)"
      ]
     },
     "execution_count": 42,
     "metadata": {},
     "output_type": "execute_result"
    }
   ],
   "source": [
    "Xnew_lda.shape"
   ]
  },
  {
   "cell_type": "code",
   "execution_count": null,
   "metadata": {},
   "outputs": [],
   "source": []
  }
 ],
 "metadata": {
  "kernelspec": {
   "display_name": "Python 3",
   "language": "python",
   "name": "python3"
  },
  "language_info": {
   "codemirror_mode": {
    "name": "ipython",
    "version": 3
   },
   "file_extension": ".py",
   "mimetype": "text/x-python",
   "name": "python",
   "nbconvert_exporter": "python",
   "pygments_lexer": "ipython3",
   "version": "3.7.6"
  }
 },
 "nbformat": 4,
 "nbformat_minor": 4
}
