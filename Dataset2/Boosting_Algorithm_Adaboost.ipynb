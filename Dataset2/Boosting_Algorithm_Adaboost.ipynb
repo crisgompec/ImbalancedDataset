{
 "cells": [
  {
   "cell_type": "code",
   "execution_count": 9,
   "metadata": {},
   "outputs": [],
   "source": [
    "import numpy as np\n",
    "import matplotlib.pyplot as plt\n",
    "from sklearn.model_selection import train_test_split\n",
    "from sklearn.metrics import accuracy_score\n",
    "import pandas as pd\n",
    "from sklearn.metrics import f1_score, roc_curve\n",
    "from sklearn.naive_bayes import GaussianNB\n",
    "from sklearn.tree import DecisionTreeClassifier\n",
    "from sklearn.ensemble import AdaBoostClassifier\n",
    "from sklearn.metrics import f1_score, roc_curve\n",
    "from tqdm import tqdm"
   ]
  },
  {
   "cell_type": "code",
   "execution_count": 4,
   "metadata": {},
   "outputs": [],
   "source": [
    "data = pd.read_pickle(\"./data.pkl\")\n",
    "\n",
    "# split data into X and y\n",
    "X = data.loc[:, data.columns != 'bot']\n",
    "Y = data.loc[:, data.columns == 'bot'].to_numpy()\n",
    "\n",
    "# split data into train and test sets\n",
    "seed = 10\n",
    "test_size = 0.33\n",
    "X_train, X_test, y_train, y_test = train_test_split(X, Y, test_size=test_size, random_state=seed)"
   ]
  },
  {
   "cell_type": "code",
   "execution_count": 5,
   "metadata": {},
   "outputs": [],
   "source": [
    "# Labels for this algortihm has to be either 1 or -1\n",
    "y_train = np.where(y_train < 0.5, -1, 1)\n",
    "y_test = np.where(y_test < 0.5, -1, 1)\n",
    "\n",
    "y_train = y_train.flatten()\n",
    "y_test = y_test.flatten()"
   ]
  },
  {
   "cell_type": "markdown",
   "metadata": {},
   "source": [
    "# Custom implementation of AdaBoost algorithm\n"
   ]
  },
  {
   "cell_type": "code",
   "execution_count": 25,
   "metadata": {},
   "outputs": [],
   "source": [
    "class ourAdaboostClassifier:\n",
    "    def __init__(self, x=None,y=None, n_iterations = 100):\n",
    "        self.number_iterations = n_iterations\n",
    "    \n",
    "    def fit(self,X_train,y_train):\n",
    "        number_samples = np.shape(X_train)[0]\n",
    "        weights = np.ones(number_samples)/number_samples\n",
    "        \n",
    "        # There will be as many weak learners as iterations\n",
    "        self.weak_learners = np.zeros(shape=self.number_iterations, dtype=object)\n",
    "        self.significance_vec = np.zeros(shape=self.number_iterations)\n",
    "        error_vec = []\n",
    "        accuracy_vec = []\n",
    "        \n",
    "        for iterations in range(self.number_iterations):\n",
    "            current_weights = weights\n",
    "\n",
    "            weak_learner = DecisionTreeClassifier(max_depth=1, max_leaf_nodes=2)\n",
    "            weak_learner_model = weak_learner.fit(X_train, y_train, sample_weight=current_weights)\n",
    "\n",
    "            # The new weak learner model is saved\n",
    "            self.weak_learners[iterations] = weak_learner_model\n",
    "            weak_learner_pred = weak_learner_model.predict(X_train)\n",
    "\n",
    "            error = 0\n",
    "            incorrect_pred = 0\n",
    "            correct_pred = 0\n",
    "            for item_index in range(number_samples):\n",
    "                if weak_learner_pred[item_index] != y_train[item_index]:\n",
    "                    incorrect_pred = incorrect_pred + 1\n",
    "                    error = error + current_weights[item_index]\n",
    "                else: \n",
    "                    correct_pred = correct_pred + 1 \n",
    "\n",
    "            # Save error for plotting    \n",
    "            # error_vec.append(error)\n",
    "\n",
    "            # Significance of the weak learner model is calculated and saved\n",
    "            significance = 0.5*np.log((1-error)/error) \n",
    "            self.significance_vec[iterations] = significance\n",
    "\n",
    "            # Update weights for each sample\n",
    "            for item_index in range(number_samples):\n",
    "                if weak_learner_pred[item_index] != y_train[item_index]:\n",
    "                    weights[item_index] = np.multiply(current_weights[item_index],np.exp(significance))\n",
    "                else:\n",
    "                    weights[item_index] = current_weights[item_index]*np.exp(-significance)\n",
    "\n",
    "            # Normalize weights\n",
    "            weights /= weights.sum()\n",
    "        \n",
    "    def predict(self,X_test):\n",
    "        model_preds = np.array([model.predict(X_test) for model in self.weak_learners])\n",
    "        y_test_pred = np.sign(np.dot(self.significance_vec, model_preds))\n",
    "        return y_test_pred.astype(int)"
   ]
  },
  {
   "cell_type": "code",
   "execution_count": 48,
   "metadata": {},
   "outputs": [],
   "source": [
    "class AdaCost:\n",
    "    \"\"\"This is the implementation of the AdaCost Classifier. In this algorithm, \n",
    "    the weight update is modified by adding a cost adjustment function φ. \n",
    "    This function, for an instance with a higher cost factor increases its weight \n",
    "    “more” if the instance is misclassified, but decreases its weight “less” otherwise.\n",
    "    \n",
    "    This implementation uses the function φ = +/-0.5*cost + 0.5\n",
    "    \n",
    "    Requires:\n",
    "        X_train: Training features. Size N x D\n",
    "        y_train: Training labels. Size N x 1\n",
    "        cost: cost used to update weight via the adjustment function\n",
    "\n",
    "    \"\"\"\n",
    "    \n",
    "    def __init__(self, x=None,y=None, n_iterations = 100):\n",
    "        self.number_iterations = n_iterations\n",
    "        \n",
    "    def fit(self,X_train,y_train, cost):\n",
    "        # Initialize weights\n",
    "        number_samples = len(X_train)\n",
    "        weights = np.ones(number_samples)/number_samples\n",
    "        \n",
    "        # Define adjustment function φ (called beta)\n",
    "        beta = 0.5*np.ones(number_samples)\n",
    "        beta[np.where(y_train==1)[0]] += cost*0.5\n",
    "        beta[np.where(y_train==-1)[0]] -= cost*0.5\n",
    "        \n",
    "        # Define vectors to store weak predictors and significances of each iteration\n",
    "        self.weak_learners = np.zeros(shape=self.number_iterations, dtype=object)\n",
    "        self.significance_vec = np.zeros(shape=self.number_iterations)\n",
    "        \n",
    "        for it in range(self.number_iterations):\n",
    "            current_weights = weights\n",
    "            \n",
    "            # Create and save week learner for this iteration\n",
    "            weak_learner_model = DecisionTreeClassifier(max_depth=1, \n",
    "                                 max_leaf_nodes=2).fit(X_train, y_train, sample_weight=current_weights)\n",
    "            self.weak_learners[it] = weak_learner_model\n",
    "            weak_learner_pred = weak_learner_model.predict(X_train)\n",
    "            \n",
    "            # Calculate r\n",
    "            u = np.multiply(np.multiply(weak_learner_pred, y_train),beta)\n",
    "            r = np.sum(np.multiply(weights,u))\n",
    "            \n",
    "            # Calculate and store significance of this iteration\n",
    "            significance = 0.5 * np.log((1+r)/(1-r))\n",
    "            self.significance_vec[it] = significance\n",
    "            \n",
    "            # Update weights for next iteration\n",
    "            weights = np.multiply(weights,np.exp(-significance * u))\n",
    "            weights /= weights.sum()    \n",
    "            \n",
    "            # Round Debugging\n",
    "            #print('Round %d' % (it))\n",
    "            #print(u)\n",
    "            #print(r)\n",
    "            #print(significance)\n",
    "            #print(weights)\n",
    "            \n",
    "            #input()\n",
    "        \n",
    "    def predict(self,X_test):\n",
    "        model_preds = np.array([model.predict(X_test) for model in self.weak_learners])\n",
    "        y_test_pred = np.sign(np.dot(self.significance_vec, model_preds))\n",
    "        return y_test_pred.astype(int)"
   ]
  },
  {
   "cell_type": "markdown",
   "metadata": {},
   "source": [
    "## Testing"
   ]
  },
  {
   "cell_type": "code",
   "execution_count": 49,
   "metadata": {},
   "outputs": [
    {
     "name": "stdout",
     "output_type": "stream",
     "text": [
      "Accuracy with default Adaboost: 0.8572\n",
      "Accuracy with our Adaboost:     0.8455\n",
      "Accuracy with AdaCost:          0.7973\n"
     ]
    }
   ],
   "source": [
    "#classifier = AdaBoostClassifier(DecisionTreeClassifier(max_depth=1),n_estimators=100)\n",
    "#classifier.fit(X_train, y_train)\n",
    "#predictions = classifier.predict(X_test)\n",
    "\n",
    "#ourClassifier = ourAdaboostClassifier()\n",
    "AdaCostClassifier = AdaCost()\n",
    "\n",
    "#ourClassifier.fit(X_train, y_train)\n",
    "AdaCostClassifier.fit(X_train, y_train,cost = 0.5)\n",
    "\n",
    "#ourpredictions = ourClassifier.predict(X_test)\n",
    "ourAdaCostpred = AdaCostClassifier.predict(X_test)\n",
    "print('Accuracy with default Adaboost: %.4f' % (len(np.where(y_test==predictions)[0])/len(y_test)))\n",
    "print('Accuracy with our Adaboost:     %.4f' % (len(np.where(y_test==ourpredictions)[0])/len(y_test)))\n",
    "print('Accuracy with AdaCost:          %.4f' % (len(np.where(y_test==ourAdaCostpred)[0])/len(y_test)))\n"
   ]
  },
  {
   "cell_type": "code",
   "execution_count": 50,
   "metadata": {},
   "outputs": [],
   "source": [
    "### Finding the best cost fit"
   ]
  },
  {
   "cell_type": "code",
   "execution_count": 51,
   "metadata": {
    "scrolled": true
   },
   "outputs": [
    {
     "name": "stderr",
     "output_type": "stream",
     "text": [
      "100%|██████████| 11/11 [02:51<00:00, 15.60s/it]\n"
     ]
    }
   ],
   "source": [
    "ourCostClassifier = AdaCost()\n",
    "accuracy = []\n",
    "costs = np.linspace(-0.5,0.5,11)\n",
    "for c in tqdm(costs):\n",
    "    ourCostClassifier.fit(X_train, y_train,cost = c)\n",
    "    ourCostpredictions = ourCostClassifier.predict(X_test)\n",
    "    accuracy.append(len(np.where(y_test==ourCostpredictions)[0])/len(y_test))\n"
   ]
  },
  {
   "cell_type": "code",
   "execution_count": 52,
   "metadata": {},
   "outputs": [
    {
     "data": {
      "image/png": "[encoded data removed]",
      "text/plain": [
       "<Figure size 432x288 with 2 Axes>"
      ]
     },
     "metadata": {
      "needs_background": "light"
     },
     "output_type": "display_data"
    }
   ],
   "source": [
    "# Plot Accuracy vs. Cost\n",
    "base_acc = (len(np.where(y_test==ourpredictions)[0])/len(y_test))\n",
    "\n",
    "plt.figure()\n",
    "ax1 = plt.subplot(111)\n",
    "plt.grid(True,which='major',linewidth=0.5)\n",
    "plt.grid(True,which='minor',linewidth=0.1)\n",
    "plt.plot(costs, accuracy,'-o')\n",
    "plt.xlabel('Cost')\n",
    "plt.ylabel('Accuracy')\n",
    "\n",
    "ax2 = ax1.twinx()\n",
    "plt.plot(costs,(np.array(accuracy)-base_acc)/base_acc*100,'o',color='tab:red')\n",
    "ax2.set_ylabel('Accuracy increase (%)')\n",
    "plt.show()"
   ]
  },
  {
   "cell_type": "markdown",
   "metadata": {},
   "source": [
    "### Draft"
   ]
  },
  {
   "cell_type": "code",
   "execution_count": 29,
   "metadata": {},
   "outputs": [],
   "source": [
    "number_iterations = 100\n",
    "\n",
    "number_samples = np.shape(X_train)[0]\n",
    "\n",
    "weights = np.ones(number_samples)/number_samples\n",
    "\n",
    "# There will be as many weak learners as iterations\n",
    "weak_learners = np.zeros(shape=number_iterations, dtype=object)\n",
    "\n",
    "significance_vec = np.zeros(shape=number_iterations)\n",
    "\n",
    "error_vec = []\n",
    "accuracy_vec = []\n",
    "\n",
    "for iterations in range(number_iterations):\n",
    "    \n",
    "    current_weights = weights\n",
    "    \n",
    "    weak_learner = DecisionTreeClassifier(max_depth=1, max_leaf_nodes=2)\n",
    "    weak_learner_model = weak_learner.fit(X_train, y_train, sample_weight=current_weights)\n",
    "    \n",
    "    \n",
    "    # The new weak learner model is saved\n",
    "    weak_learners[iterations] = weak_learner_model\n",
    "    \n",
    "    weak_learner_pred = weak_learner_model.predict(X_train)\n",
    "    \n",
    "    error = 0\n",
    "    incorrect_pred = 0\n",
    "    correct_pred = 0\n",
    "    \n",
    "    for item_index in range(number_samples):\n",
    "\n",
    "        if weak_learner_pred[item_index] != y_train[item_index]:\n",
    "            incorrect_pred = incorrect_pred + 1\n",
    "            error = error + current_weights[item_index]\n",
    "        else: \n",
    "            correct_pred = correct_pred + 1 \n",
    "            \n",
    "    # Save error for plotting    \n",
    "    error_vec.append(error)\n",
    "    \n",
    "    # Significance of the weak learner model is calculated and saved\n",
    "   \n",
    "    significance = 0.5*np.log((1-error)/error) \n",
    "        \n",
    "    significance_vec[iterations] = significance\n",
    "\n",
    "    #########################\n",
    "    \n",
    "    # Update weights for each sample\n",
    "    \n",
    "    for item_index in range(number_samples):\n",
    "        if weak_learner_pred[item_index] != y_train[item_index]:\n",
    "\n",
    "            weights[item_index] = np.multiply(current_weights[item_index],np.exp(significance))\n",
    "\n",
    "        else:\n",
    "            weights[item_index] = current_weights[item_index]*np.exp(-significance)\n",
    "     \n",
    "    # Alternative\n",
    "    # weights = current_weights * np.exp(-significance*  y_train * weak_learner_pred)\n",
    "    \n",
    "\n",
    "    #########################\n",
    "    \n",
    "    # Normalize weights\n",
    "    \n",
    "    weights /= weights.sum()\n",
    "\n",
    "    \n",
    "    \n",
    "    "
   ]
  },
  {
   "cell_type": "code",
   "execution_count": null,
   "metadata": {},
   "outputs": [],
   "source": []
  },
  {
   "cell_type": "code",
   "execution_count": 30,
   "metadata": {
    "scrolled": false
   },
   "outputs": [
    {
     "data": {
      "image/png": "[encoded data removed]",
      "text/plain": [
       "<Figure size 432x288 with 1 Axes>"
      ]
     },
     "metadata": {
      "needs_background": "light"
     },
     "output_type": "display_data"
    }
   ],
   "source": [
    "plt.plot(error_vec)\n",
    "plt.show()"
   ]
  },
  {
   "cell_type": "code",
   "execution_count": 31,
   "metadata": {},
   "outputs": [],
   "source": [
    "# Get prediction of each weak learner \n",
    "model_preds = np.array([model.predict(X_test) for model in weak_learners])\n",
    "y_test_pred = np.sign(np.dot(significance_vec, model_preds))"
   ]
  },
  {
   "cell_type": "code",
   "execution_count": 32,
   "metadata": {
    "scrolled": true
   },
   "outputs": [
    {
     "name": "stdout",
     "output_type": "stream",
     "text": [
      "Accuracy custom implementation = 0.845513413506013\n"
     ]
    }
   ],
   "source": [
    "# Calculate accuracy \n",
    "\n",
    "correct_pred = 0\n",
    "\n",
    "for item_index in range(np.shape(y_test_pred)[0]):\n",
    "\n",
    "        if y_test_pred[item_index] == y_test[item_index]:\n",
    "\n",
    "            correct_pred = correct_pred + 1 \n",
    "            \n",
    "print(\"Accuracy custom implementation = \" + str(correct_pred/np.shape(y_test_pred)[0]))"
   ]
  },
  {
   "cell_type": "code",
   "execution_count": 33,
   "metadata": {
    "scrolled": true
   },
   "outputs": [
    {
     "name": "stdout",
     "output_type": "stream",
     "text": [
      "F1 Score Adaboost: 0.8414968326746479\n"
     ]
    }
   ],
   "source": [
    "f1_score = f1_score(y_test, y_test_pred.astype(int), average='weighted')\n",
    "print(\"F1 Score Adaboost: \" + str(f1_score))"
   ]
  },
  {
   "cell_type": "markdown",
   "metadata": {},
   "source": [
    "# Sklearn implementation of AdaBoost Algorithm\n"
   ]
  },
  {
   "cell_type": "code",
   "execution_count": 34,
   "metadata": {},
   "outputs": [],
   "source": [
    "classifier = AdaBoostClassifier(DecisionTreeClassifier(max_depth=1),n_estimators=100)\n",
    "classifier.fit(X_train, y_train)\n",
    "predictions = classifier.predict(X_test)"
   ]
  },
  {
   "cell_type": "code",
   "execution_count": 35,
   "metadata": {
    "scrolled": false
   },
   "outputs": [
    {
     "name": "stdout",
     "output_type": "stream",
     "text": [
      "Accuracy sklearn implementation = 0.8572309589885908\n"
     ]
    }
   ],
   "source": [
    "# Calculate accuracy \n",
    "\n",
    "correct_pred = 0\n",
    "\n",
    "for item_index in range(np.shape(predictions)[0]):\n",
    "\n",
    "        if predictions[item_index] == y_test[item_index]:\n",
    "\n",
    "            correct_pred = correct_pred + 1 \n",
    "            \n",
    "print(\"Accuracy sklearn implementation = \" + str(correct_pred/np.shape(y_test_pred)[0]))"
   ]
  },
  {
   "cell_type": "code",
   "execution_count": 45,
   "metadata": {
    "scrolled": true
   },
   "outputs": [
    {
     "ename": "TypeError",
     "evalue": "'numpy.float64' object is not callable",
     "output_type": "error",
     "traceback": [
      "\u001b[0;31m---------------------------------------------------------------------------\u001b[0m",
      "\u001b[0;31mTypeError\u001b[0m                                 Traceback (most recent call last)",
      "\u001b[0;32m<ipython-input-45-769812608eeb>\u001b[0m in \u001b[0;36m<module>\u001b[0;34m\u001b[0m\n\u001b[0;32m----> 1\u001b[0;31m \u001b[0mf1_score\u001b[0m \u001b[0;34m=\u001b[0m \u001b[0mf1_score\u001b[0m\u001b[0;34m(\u001b[0m\u001b[0my_test\u001b[0m\u001b[0;34m,\u001b[0m \u001b[0mpredictions\u001b[0m\u001b[0;34m,\u001b[0m \u001b[0maverage\u001b[0m\u001b[0;34m=\u001b[0m\u001b[0;34m'weighted'\u001b[0m\u001b[0;34m)\u001b[0m\u001b[0;34m\u001b[0m\u001b[0;34m\u001b[0m\u001b[0m\n\u001b[0m\u001b[1;32m      2\u001b[0m \u001b[0mprint\u001b[0m\u001b[0;34m(\u001b[0m\u001b[0;34m\"F1 Score Adaboost: \"\u001b[0m \u001b[0;34m+\u001b[0m \u001b[0mstr\u001b[0m\u001b[0;34m(\u001b[0m\u001b[0mf1_score\u001b[0m\u001b[0;34m)\u001b[0m\u001b[0;34m)\u001b[0m\u001b[0;34m\u001b[0m\u001b[0;34m\u001b[0m\u001b[0m\n",
      "\u001b[0;31mTypeError\u001b[0m: 'numpy.float64' object is not callable"
     ]
    }
   ],
   "source": [
    "f1_score = f1_score(y_test, predictions, average='weighted')\n",
    "print(\"F1 Score Adaboost: \" + str(f1_score))"
   ]
  }
 ],
 "metadata": {
  "kernelspec": {
   "display_name": "Python 3",
   "language": "python",
   "name": "python3"
  },
  "language_info": {
   "codemirror_mode": {
    "name": "ipython",
    "version": 3
   },
   "file_extension": ".py",
   "mimetype": "text/x-python",
   "name": "python",
   "nbconvert_exporter": "python",
   "pygments_lexer": "ipython3",
   "version": "3.7.6"
  }
 },
 "nbformat": 4,
 "nbformat_minor": 2
}
