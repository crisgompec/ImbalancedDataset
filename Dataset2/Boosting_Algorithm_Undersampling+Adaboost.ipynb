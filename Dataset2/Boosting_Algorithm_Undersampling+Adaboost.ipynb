{
 "cells": [
  {
   "cell_type": "code",
   "execution_count": 1,
   "metadata": {},
   "outputs": [],
   "source": [
    "import numpy as np\n",
    "import matplotlib.pyplot as plt\n",
    "from sklearn.model_selection import train_test_split\n",
    "from sklearn.metrics import accuracy_score\n",
    "import pandas as pd\n",
    "from sklearn.metrics import f1_score, roc_curve\n",
    "from sklearn.naive_bayes import GaussianNB\n",
    "from sklearn.tree import DecisionTreeClassifier\n",
    "from sklearn.metrics import f1_score, roc_curve\n",
    "from tqdm import tqdm\n",
    "import imblearn\n",
    "import random\n",
    "from imblearn.over_sampling import SMOTENC\n",
    "from imblearn.over_sampling import SMOTE\n",
    "from imblearn.under_sampling import RandomUnderSampler\n",
    "from imblearn.pipeline import Pipeline"
   ]
  },
  {
   "cell_type": "code",
   "execution_count": 2,
   "metadata": {},
   "outputs": [],
   "source": [
    "data = pd.read_pickle(\"./data.pkl\")\n",
    "## Remove columns of languages\n",
    "# data = data.iloc[:,0:12]"
   ]
  },
  {
   "cell_type": "code",
   "execution_count": 3,
   "metadata": {},
   "outputs": [],
   "source": [
    "\n",
    "categorical_columns = [data.columns.get_loc(c) for c in data.select_dtypes(exclude=[\"number\"]).columns if c in data]\n",
    "\n",
    "# split data into X and y\n",
    "X = data.loc[:, data.columns != 'bot']\n",
    "Y = data.loc[:, data.columns == 'bot'].to_numpy()\n",
    "\n",
    "# split data into train and test sets\n",
    "seed = 10\n",
    "test_size = 0.33\n",
    "X_train, X_test, y_train, y_test = train_test_split(X, Y, test_size=test_size, random_state=seed)"
   ]
  },
  {
   "cell_type": "code",
   "execution_count": 4,
   "metadata": {},
   "outputs": [],
   "source": [
    "# Oversampling of training set\n",
    "\n",
    "X_train_majority = X_train[y_train < 1] # human (non-bots) => label 0 : are majority\n",
    "X_train_minority = X_train[y_train > 0]\n"
   ]
  },
  {
   "cell_type": "code",
   "execution_count": 5,
   "metadata": {},
   "outputs": [
    {
     "data": {
      "text/plain": [
       "0.2706835443037975"
      ]
     },
     "execution_count": 5,
     "metadata": {},
     "output_type": "execute_result"
    }
   ],
   "source": [
    "N = np.shape(y_train)[0]\n",
    "\n",
    "pi_mi = y_train.sum()/np.shape(y_train)[0]\n",
    "pi_mi"
   ]
  },
  {
   "cell_type": "code",
   "execution_count": 6,
   "metadata": {},
   "outputs": [],
   "source": [
    "X_train_majority = X_train_majority.to_numpy()\n",
    "X_train_minority = X_train_minority.to_numpy()\n",
    "\n",
    "y_test = np.where(y_test < 0.5, -1, 1)\n",
    "\n",
    "y_train = y_train.flatten()\n",
    "y_test = y_test.flatten()"
   ]
  },
  {
   "cell_type": "code",
   "execution_count": 7,
   "metadata": {},
   "outputs": [
    {
     "name": "stderr",
     "output_type": "stream",
     "text": [
      "\r",
      "  0%|          | 0/10 [00:00<?, ?it/s]"
     ]
    },
    {
     "name": "stdout",
     "output_type": "stream",
     "text": [
      "Number of samples: 6786\n"
     ]
    },
    {
     "name": "stderr",
     "output_type": "stream",
     "text": [
      "\r",
      " 10%|█         | 1/10 [00:10<01:31, 10.12s/it]"
     ]
    },
    {
     "name": "stdout",
     "output_type": "stream",
     "text": [
      "Accuracy = 0.6384006578271149\n",
      "Number of samples: 8226\n"
     ]
    },
    {
     "name": "stderr",
     "output_type": "stream",
     "text": [
      "\r",
      " 20%|██        | 2/10 [00:21<01:23, 10.42s/it]"
     ]
    },
    {
     "name": "stdout",
     "output_type": "stream",
     "text": [
      "Accuracy = 0.741083359029705\n",
      "Number of samples: 9667\n"
     ]
    },
    {
     "name": "stderr",
     "output_type": "stream",
     "text": [
      "\r",
      " 30%|███       | 3/10 [00:33<01:16, 10.87s/it]"
     ]
    },
    {
     "name": "stdout",
     "output_type": "stream",
     "text": [
      "Accuracy = 0.7915510329941412\n",
      "Number of samples: 11107\n"
     ]
    },
    {
     "name": "stderr",
     "output_type": "stream",
     "text": [
      "\r",
      " 40%|████      | 4/10 [00:46<01:09, 11.65s/it]"
     ]
    },
    {
     "name": "stdout",
     "output_type": "stream",
     "text": [
      "Accuracy = 0.8064549285640867\n",
      "Number of samples: 12548\n"
     ]
    },
    {
     "name": "stderr",
     "output_type": "stream",
     "text": [
      "\r",
      " 50%|█████     | 5/10 [01:03<01:06, 13.34s/it]"
     ]
    },
    {
     "name": "stdout",
     "output_type": "stream",
     "text": [
      "Accuracy = 0.8246479597080892\n",
      "Number of samples: 13988\n"
     ]
    },
    {
     "name": "stderr",
     "output_type": "stream",
     "text": [
      "\r",
      " 60%|██████    | 6/10 [01:27<01:06, 16.56s/it]"
     ]
    },
    {
     "name": "stdout",
     "output_type": "stream",
     "text": [
      "Accuracy = 0.8324596566964745\n",
      "Number of samples: 15428\n"
     ]
    },
    {
     "name": "stderr",
     "output_type": "stream",
     "text": [
      "\r",
      " 70%|███████   | 7/10 [01:56<01:00, 20.12s/it]"
     ]
    },
    {
     "name": "stdout",
     "output_type": "stream",
     "text": [
      "Accuracy = 0.8343097954568814\n",
      "Number of samples: 16869\n"
     ]
    },
    {
     "name": "stderr",
     "output_type": "stream",
     "text": [
      "\r",
      " 80%|████████  | 8/10 [02:13<00:38, 19.33s/it]"
     ]
    },
    {
     "name": "stdout",
     "output_type": "stream",
     "text": [
      "Accuracy = 0.8366738616507349\n",
      "Number of samples: 18309\n"
     ]
    },
    {
     "name": "stderr",
     "output_type": "stream",
     "text": [
      "\r",
      " 90%|█████████ | 9/10 [02:37<00:20, 20.66s/it]"
     ]
    },
    {
     "name": "stdout",
     "output_type": "stream",
     "text": [
      "Accuracy = 0.8495220474868949\n",
      "Number of samples: 19749\n"
     ]
    },
    {
     "name": "stderr",
     "output_type": "stream",
     "text": [
      "\r",
      "100%|██████████| 10/10 [03:09<00:00, 23.92s/it]"
     ]
    },
    {
     "name": "stdout",
     "output_type": "stream",
     "text": [
      "Accuracy = 0.8451022715592559\n"
     ]
    },
    {
     "name": "stderr",
     "output_type": "stream",
     "text": [
      "\n"
     ]
    }
   ],
   "source": [
    "#betas = [i for i in list(np.linspace(0.1,0.9,11))]\n",
    "betas = [0.1, 0.2, 0.3, 0.4, 0.5, 0.6, 0.7, 0.8, 0.9, 0.99999]\n",
    "# betas = [0.9]\n",
    "f1scores_under = []\n",
    "accuracy_under = []\n",
    "\n",
    "for Beta in tqdm(betas):\n",
    "\n",
    "    # Update x2D_ma\n",
    "    X_train_majority_undersampled = X_train_majority[random.sample(range(1, int((1-pi_mi)*N)),int(Beta*(1-pi_mi)*N)), :]\n",
    "    X_train = np.r_[X_train_majority_undersampled,X_train_minority]\n",
    "    y_train = np.r_[[-1]*len(X_train_majority_undersampled), [1]*len(X_train_minority)]\n",
    "\n",
    "    number_iterations = 100\n",
    "\n",
    "    number_samples = np.shape(X_train)[0]\n",
    "    \n",
    "    print(\"Number of samples: \"+str(number_samples))\n",
    "\n",
    "    weights = np.ones(number_samples)/number_samples\n",
    "\n",
    "    # There will be as many weak learners as iterations\n",
    "    weak_learners = np.zeros(shape=number_iterations, dtype=object)\n",
    "\n",
    "    significance_vec = np.zeros(shape=number_iterations)\n",
    "\n",
    "    error_vec = []\n",
    "    accuracy_vec = []\n",
    "\n",
    "    for iterations in range(number_iterations):\n",
    "\n",
    "        current_weights = weights\n",
    "\n",
    "        weak_learner = DecisionTreeClassifier(max_depth=1, max_leaf_nodes=2)\n",
    "        weak_learner_model = weak_learner.fit(X_train, y_train, sample_weight=current_weights)\n",
    "\n",
    "\n",
    "        # The new weak learner model is saved\n",
    "        weak_learners[iterations] = weak_learner_model\n",
    "\n",
    "        weak_learner_pred = weak_learner_model.predict(X_train)\n",
    "\n",
    "        error = 0\n",
    "        incorrect_pred = 0\n",
    "        correct_pred = 0\n",
    "\n",
    "        for item_index in range(number_samples):\n",
    "\n",
    "            if weak_learner_pred[item_index] != y_train[item_index]:\n",
    "                incorrect_pred = incorrect_pred + 1\n",
    "                error = error + current_weights[item_index]\n",
    "            else: \n",
    "                correct_pred = correct_pred + 1 \n",
    "\n",
    "        # Save error for plotting    \n",
    "        error_vec.append(error)\n",
    "\n",
    "        # Significance of the weak learner model is calculated and saved\n",
    "\n",
    "        significance = 0.5*np.log((1-error)/error) \n",
    "\n",
    "        significance_vec[iterations] = significance\n",
    "\n",
    "        #########################\n",
    "\n",
    "        # Update weights for each sample\n",
    "\n",
    "        for item_index in range(number_samples):\n",
    "            if weak_learner_pred[item_index] != y_train[item_index]:\n",
    "\n",
    "                weights[item_index] = np.multiply(current_weights[item_index],np.exp(significance))\n",
    "\n",
    "            else:\n",
    "                weights[item_index] = current_weights[item_index]*np.exp(-significance)\n",
    "\n",
    "        # Alternative\n",
    "        # weights = current_weights * np.exp(-significance*  y_train * weak_learner_pred)\n",
    "\n",
    "\n",
    "        #########################\n",
    "\n",
    "        # Normalize weights\n",
    "\n",
    "        weights /= weights.sum()\n",
    "        \n",
    "        \n",
    "    # Get prediction of each weak learner \n",
    "    model_preds = np.array([model.predict(X_test) for model in weak_learners])\n",
    "    y_test_pred = np.sign(np.dot(significance_vec, model_preds))\n",
    "\n",
    "    # Calculate accuracy \n",
    "    \n",
    "    correct_pred = 0\n",
    "\n",
    "    for item_index in range(np.shape(y_test_pred)[0]):\n",
    "\n",
    "            if y_test_pred[item_index] == y_test[item_index]:\n",
    "\n",
    "                correct_pred = correct_pred + 1 \n",
    "                \n",
    "    accuracy = correct_pred/np.shape(y_test_pred)[0]\n",
    "\n",
    "    print(\"Accuracy = \" + str(accuracy))\n",
    "    \n",
    "#     # F1 Score\n",
    "#     f1_score = f1_score(y_test, y_test_pred, average='weighted')\n",
    "#     print(\"F1 Score Adaboost: \" + str(f1_score))\n",
    "    \n",
    "    # Record results\n",
    "#     f1scores_under.append(f1_score)\n",
    "    accuracy_under.append(accuracy)\n",
    "\n",
    "    "
   ]
  },
  {
   "cell_type": "code",
   "execution_count": 8,
   "metadata": {},
   "outputs": [
    {
     "data": {
      "image/png": "[encoded data removed]",
      "text/plain": [
       "<Figure size 432x288 with 1 Axes>"
      ]
     },
     "metadata": {
      "needs_background": "light"
     },
     "output_type": "display_data"
    }
   ],
   "source": [
    "plt.plot(betas,accuracy_under)\n",
    "plt.xlabel(\"Beta coefficient\")\n",
    "plt.ylabel(\"Accuracy\")\n",
    "plt.show()"
   ]
  },
  {
   "cell_type": "code",
   "execution_count": 9,
   "metadata": {},
   "outputs": [
    {
     "name": "stdout",
     "output_type": "stream",
     "text": [
      "              precision    recall  f1-score   support\n",
      "\n",
      "          -1       0.87      0.92      0.90      7144\n",
      "           1       0.75      0.63      0.68      2585\n",
      "\n",
      "    accuracy                           0.85      9729\n",
      "   macro avg       0.81      0.78      0.79      9729\n",
      "weighted avg       0.84      0.85      0.84      9729\n",
      "\n"
     ]
    }
   ],
   "source": [
    "# Maximum seems to occur in beta = 0.9\n",
    "\n",
    "from sklearn.metrics import classification_report\n",
    "print(classification_report(y_test,y_test_pred))"
   ]
  }
 ],
 "metadata": {
  "kernelspec": {
   "display_name": "Python 3",
   "language": "python",
   "name": "python3"
  },
  "language_info": {
   "codemirror_mode": {
    "name": "ipython",
    "version": 3
   },
   "file_extension": ".py",
   "mimetype": "text/x-python",
   "name": "python",
   "nbconvert_exporter": "python",
   "pygments_lexer": "ipython3",
   "version": "3.7.3"
  }
 },
 "nbformat": 4,
 "nbformat_minor": 2
}
