{
 "cells": [
  {
   "cell_type": "code",
   "execution_count": 1,
   "metadata": {},
   "outputs": [],
   "source": [
    "import numpy as np\n",
    "import matplotlib.pyplot as plt\n",
    "from sklearn.model_selection import train_test_split\n",
    "from sklearn.metrics import accuracy_score\n",
    "import pandas as pd\n",
    "from sklearn.metrics import f1_score, roc_curve\n",
    "from sklearn.naive_bayes import GaussianNB\n",
    "from sklearn.tree import DecisionTreeClassifier\n",
    "from sklearn.metrics import f1_score, roc_curve\n",
    "\n",
    "import imblearn\n",
    "\n",
    "from imblearn.over_sampling import SMOTENC\n",
    "from imblearn.over_sampling import SMOTE\n",
    "from imblearn.under_sampling import RandomUnderSampler\n",
    "from imblearn.pipeline import Pipeline"
   ]
  },
  {
   "cell_type": "code",
   "execution_count": 2,
   "metadata": {},
   "outputs": [],
   "source": [
    "def oversampling(x_mi,x_ma,ratio,categorical_columns):\n",
    "    \n",
    "    num_dim = np.shape(x_ma)[1]\n",
    "    \n",
    "   \n",
    "    dataset_majority = np.c_[x_ma, np.zeros(np.shape(x_ma)[0])]\n",
    "    dataset_minority = np.c_[x_mi, np.ones(np.shape(x_mi)[0])]\n",
    "    \n",
    "    dataset = np.concatenate((dataset_majority, dataset_minority))\n",
    "\n",
    "    X = dataset[:,0:num_dim]\n",
    "    \n",
    "    y = dataset[:,num_dim]\n",
    "    y=y.astype('int')\n",
    "    \n",
    "    over = SMOTENC(sampling_strategy=ratio, categorical_features=categorical_columns)\n",
    "    #over = SMOTE(sampling_strategy=ratio)\n",
    "    steps = [('o', over)]\n",
    "    pipeline = Pipeline(steps=steps)\n",
    "    # transform the dataset\n",
    "    X_over, y_over = pipeline.fit_resample(X, y)\n",
    "\n",
    "    X_over_majority = X_over[y_over < 1]\n",
    "    y_over_majority = y_over[y_over < 1]\n",
    "\n",
    "    X_over_minority = X_over[y_over > 0]\n",
    "    y_over_minority = y_over[y_over > 0]\n",
    "    \n",
    "    return X_over_minority"
   ]
  },
  {
   "cell_type": "code",
   "execution_count": 3,
   "metadata": {},
   "outputs": [],
   "source": [
    "data = pd.read_pickle(\"./data.pkl\")\n",
    "## Remove columns of languages\n",
    "# data = data.iloc[:,0:12]"
   ]
  },
  {
   "cell_type": "code",
   "execution_count": 4,
   "metadata": {},
   "outputs": [],
   "source": [
    "\n",
    "categorical_columns = [data.columns.get_loc(c) for c in data.select_dtypes(exclude=[\"number\"]).columns if c in data]\n",
    "\n",
    "# split data into X and y\n",
    "X = data.loc[:, data.columns != 'bot']\n",
    "Y = data.loc[:, data.columns == 'bot'].to_numpy()\n",
    "\n",
    "# split data into train and test sets\n",
    "seed = 10\n",
    "test_size = 0.33\n",
    "X_train, X_test, y_train, y_test = train_test_split(X, Y, test_size=test_size, random_state=seed)"
   ]
  },
  {
   "cell_type": "code",
   "execution_count": 5,
   "metadata": {},
   "outputs": [],
   "source": [
    "# Oversampling of training set\n",
    "\n",
    "X_train_majority = X_train[y_train < 1] # human (non-bots) are majority\n",
    "X_train_minority = X_train[y_train > 0]\n"
   ]
  },
  {
   "cell_type": "code",
   "execution_count": 6,
   "metadata": {},
   "outputs": [],
   "source": [
    "X_over_train_minority = oversampling(X_train_majority, X_train_minority, 0.6, categorical_columns)\n",
    "\n",
    "dataset_train_majority = np.c_[X_train_majority, -1*np.ones(np.shape(X_train_majority)[0])]\n",
    "dataset_train_minority = np.c_[X_over_train_minority, np.ones(np.shape(X_over_train_minority)[0])]\n",
    "\n",
    "dataset_train = np.concatenate((dataset_train_majority, dataset_train_minority))\n",
    "\n",
    "X_train = dataset_train[:,0:np.shape(X)[1]]\n",
    "y_train = dataset_train[:,np.shape(X)[1]].astype('int')"
   ]
  },
  {
   "cell_type": "code",
   "execution_count": 7,
   "metadata": {},
   "outputs": [
    {
     "data": {
      "text/plain": [
       "array([[False, False, 2364, ..., 0, 0, 0],\n",
       "       [True, False, 95, ..., 0, 0, 0],\n",
       "       [True, False, 44447, ..., 0, 0, 0],\n",
       "       ...,\n",
       "       [True, False, 35234.0, ..., 0.0, 0.0, 0.0],\n",
       "       [False, False, 8963.0, ..., 0.0, 0.0, 0.0],\n",
       "       [False, False, 28.0, ..., 0.0, 0.0, 0.0]], dtype=object)"
      ]
     },
     "execution_count": 7,
     "metadata": {},
     "output_type": "execute_result"
    }
   ],
   "source": [
    "X_train"
   ]
  },
  {
   "cell_type": "code",
   "execution_count": 8,
   "metadata": {},
   "outputs": [],
   "source": [
    "# Labels for this algortihm has to be either 1 or -1\n",
    "# y_train = np.where(y_train < 0.5, -1, 1)\n",
    "y_test = np.where(y_test < 0.5, -1, 1)\n",
    "\n",
    "y_train = y_train.flatten()\n",
    "y_test = y_test.flatten()"
   ]
  },
  {
   "cell_type": "code",
   "execution_count": 9,
   "metadata": {},
   "outputs": [],
   "source": [
    "number_iterations = 100\n",
    "\n",
    "number_samples = np.shape(X_train)[0]\n",
    "\n",
    "weights = np.ones(number_samples)/number_samples\n",
    "\n",
    "# There will be as many weak learners as iterations\n",
    "weak_learners = np.zeros(shape=number_iterations, dtype=object)\n",
    "\n",
    "significance_vec = np.zeros(shape=number_iterations)\n",
    "\n",
    "error_vec = []\n",
    "accuracy_vec = []\n",
    "\n",
    "for iterations in range(number_iterations):\n",
    "    \n",
    "    current_weights = weights\n",
    "    \n",
    "    weak_learner = DecisionTreeClassifier(max_depth=1, max_leaf_nodes=2)\n",
    "    weak_learner_model = weak_learner.fit(X_train, y_train, sample_weight=current_weights)\n",
    "    \n",
    "    \n",
    "    # The new weak learner model is saved\n",
    "    weak_learners[iterations] = weak_learner_model\n",
    "    \n",
    "    weak_learner_pred = weak_learner_model.predict(X_train)\n",
    "    \n",
    "    error = 0\n",
    "    incorrect_pred = 0\n",
    "    correct_pred = 0\n",
    "    \n",
    "    for item_index in range(number_samples):\n",
    "\n",
    "        if weak_learner_pred[item_index] != y_train[item_index]:\n",
    "            incorrect_pred = incorrect_pred + 1\n",
    "            error = error + current_weights[item_index]\n",
    "        else: \n",
    "            correct_pred = correct_pred + 1 \n",
    "            \n",
    "    # Save error for plotting    \n",
    "    error_vec.append(error)\n",
    "    \n",
    "    # Significance of the weak learner model is calculated and saved\n",
    "   \n",
    "    significance = 0.5*np.log((1-error)/error) \n",
    "        \n",
    "    significance_vec[iterations] = significance\n",
    "\n",
    "    #########################\n",
    "    \n",
    "    # Update weights for each sample\n",
    "    \n",
    "    for item_index in range(number_samples):\n",
    "        if weak_learner_pred[item_index] != y_train[item_index]:\n",
    "\n",
    "            weights[item_index] = np.multiply(current_weights[item_index],np.exp(significance))\n",
    "\n",
    "        else:\n",
    "            weights[item_index] = current_weights[item_index]*np.exp(-significance)\n",
    "     \n",
    "    # Alternative\n",
    "    # weights = current_weights * np.exp(-significance*  y_train * weak_learner_pred)\n",
    "    \n",
    "\n",
    "    #########################\n",
    "    \n",
    "    # Normalize weights\n",
    "    \n",
    "    weights /= weights.sum()\n",
    "   \n",
    "    "
   ]
  },
  {
   "cell_type": "code",
   "execution_count": 10,
   "metadata": {},
   "outputs": [
    {
     "data": {
      "image/png": "[encoded data removed]",
      "text/plain": [
       "<Figure size 432x288 with 1 Axes>"
      ]
     },
     "metadata": {
      "needs_background": "light"
     },
     "output_type": "display_data"
    }
   ],
   "source": [
    "plt.plot(error_vec)\n",
    "plt.show()"
   ]
  },
  {
   "cell_type": "code",
   "execution_count": 11,
   "metadata": {},
   "outputs": [],
   "source": [
    "# Get prediction of each weak learner \n",
    "model_preds = np.array([model.predict(X_test) for model in weak_learners])\n",
    "y_test_pred = np.sign(np.dot(significance_vec, model_preds))"
   ]
  },
  {
   "cell_type": "code",
   "execution_count": 12,
   "metadata": {},
   "outputs": [
    {
     "name": "stdout",
     "output_type": "stream",
     "text": [
      "Accuracy = 0.5897320188836435\n"
     ]
    }
   ],
   "source": [
    "# Calculate accuracy \n",
    "\n",
    "for item_index in range(np.shape(y_test_pred)[0]):\n",
    "\n",
    "        if y_test_pred[item_index] == y_test[item_index]:\n",
    "\n",
    "            correct_pred = correct_pred + 1 \n",
    "            \n",
    "print(\"Accuracy = \" + str(correct_pred/number_samples))"
   ]
  },
  {
   "cell_type": "code",
   "execution_count": 13,
   "metadata": {},
   "outputs": [
    {
     "name": "stdout",
     "output_type": "stream",
     "text": [
      "F1 Score Adaboost: 0.11155363793930005\n"
     ]
    }
   ],
   "source": [
    "f1_score = f1_score(y_test, y_test_pred, average='weighted')\n",
    "print(\"F1 Score Adaboost: \" + str(f1_score))"
   ]
  },
  {
   "cell_type": "code",
   "execution_count": null,
   "metadata": {},
   "outputs": [],
   "source": []
  }
 ],
 "metadata": {
  "kernelspec": {
   "display_name": "Python 3",
   "language": "python",
   "name": "python3"
  },
  "language_info": {
   "codemirror_mode": {
    "name": "ipython",
    "version": 3
   },
   "file_extension": ".py",
   "mimetype": "text/x-python",
   "name": "python",
   "nbconvert_exporter": "python",
   "pygments_lexer": "ipython3",
   "version": "3.7.3"
  }
 },
 "nbformat": 4,
 "nbformat_minor": 2
}
