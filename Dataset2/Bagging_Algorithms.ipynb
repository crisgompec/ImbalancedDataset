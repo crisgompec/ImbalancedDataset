{
 "cells": [
  {
   "cell_type": "code",
   "execution_count": 1,
   "metadata": {},
   "outputs": [],
   "source": [
    "import numpy as np\n",
    "import matplotlib.pyplot as plt\n",
    "from sklearn.model_selection import train_test_split\n",
    "from sklearn.metrics import accuracy_score\n",
    "import pandas as pd\n",
    "from sklearn.metrics import f1_score, roc_curve, accuracy_score\n",
    "from sklearn.naive_bayes import GaussianNB\n",
    "from sklearn.tree import DecisionTreeClassifier\n",
    "from sklearn.metrics import f1_score, roc_curve\n",
    "from sklearn.pipeline import make_pipeline\n",
    "from sklearn.preprocessing import StandardScaler\n",
    "from sklearn.svm import SVC\n",
    "from sklearn.neighbors import KNeighborsClassifier\n",
    "import random"
   ]
  },
  {
   "cell_type": "code",
   "execution_count": 2,
   "metadata": {},
   "outputs": [],
   "source": [
    "data = pd.read_pickle(\"./data.pkl\")\n",
    "\n",
    "# split data into X and y\n",
    "X = data.loc[:, data.columns != 'bot']\n",
    "Y = data.loc[:, data.columns == 'bot'].to_numpy()\n",
    "\n",
    "# split data into train and test sets\n",
    "seed = 10\n",
    "test_size = 0.33\n",
    "X_train, X_test, y_train, y_test = train_test_split(X, Y, test_size=test_size, random_state=seed)\n",
    "\n",
    "# Labels for this algortihm has to be either 1 or -1\n",
    "y_train = np.where(y_train < 0.5, -1, 1)\n",
    "y_test = np.where(y_test < 0.5, -1, 1)\n",
    "\n",
    "dataset_train = np.concatenate((X_train.to_numpy(), y_train),axis = 1)"
   ]
  },
  {
   "cell_type": "code",
   "execution_count": 3,
   "metadata": {},
   "outputs": [],
   "source": [
    "class Bagging_classifier:\n",
    "    def __init__(self, type_classifier, x=None, y=None, n_iterations = 20, ratio=0.1):\n",
    "        \n",
    "        \"\"\"\n",
    "        type_classifier: DecisionTree, KNN, SVM, GaussianNB\n",
    "        \"\"\"\n",
    "        self.number_iterations = n_iterations\n",
    "        self.type_classifier = type_classifier \n",
    "        \n",
    "        self.ratio = ratio #Ratio Bootstrapped dataset/ original dataset\n",
    "        \n",
    "                \n",
    "    def fit(self,X_train,y_train):\n",
    "        \n",
    "        dataset_train = np.concatenate((X_train.to_numpy(), y_train),axis = 1)\n",
    "        N = np.shape(dataset_train)[0]\n",
    "        \n",
    "        # There will be as many classifier models as iterations\n",
    "        self.classifier_models = np.zeros(shape=self.number_iterations, dtype=object)\n",
    "        \n",
    "        for classifier_iteration in range(self.number_iterations):\n",
    "    \n",
    "            dataset_train_undersampled = dataset_train[random.sample(range(1,N),int(self.ratio*N)), :]\n",
    "\n",
    "            X_train_undersampled = dataset_train_undersampled[:,0:59]\n",
    "            y_train_undersampled = dataset_train_undersampled[:,59].astype(int)\n",
    "\n",
    "\n",
    "            ### Train different algorithms\n",
    "\n",
    "            # Decision tree\n",
    "            if self.type_classifier == \"DecisionTree\": \n",
    "                classifier = DecisionTreeClassifier(max_depth=1, max_leaf_nodes=2)\n",
    "                classifier_model = classifier.fit(X_train_undersampled, y_train_undersampled)\n",
    "\n",
    "\n",
    "            # K-NN\n",
    "            elif self.type_classifier == \"KNN\":\n",
    "                classifier = KNeighborsClassifier(n_neighbors=3)\n",
    "                classifier_model = classifier.fit(X_train_undersampled, y_train_undersampled)\n",
    "\n",
    "        \n",
    "            # SVM\n",
    "            elif self.type_classifier == \"SVM\":\n",
    "                classifier = make_pipeline(StandardScaler(), SVC(gamma='auto'))\n",
    "                classifier_model = classifier.fit(X_train_undersampled, y_train_undersampled)\n",
    "\n",
    "            # Gaussian Naive Bayes    \n",
    "            elif self.type_classifier == \"GaussianNB\":\n",
    "                classifier = GaussianNB()\n",
    "                classifier_model = classifier.fit(X_train_undersampled, y_train_undersampled) \n",
    "            else:\n",
    "                print(\"Wrong classifier selection\")\n",
    "                return\n",
    "                \n",
    "            self.classifier_models[classifier_iteration] = classifier_model\n",
    "        \n",
    "        return\n",
    "    \n",
    "    \n",
    "    def predict(self,X_test):\n",
    "        \n",
    "        model_preds = np.array([model.predict(X_test) for model in self.classifier_models])\n",
    "        y_test_pred = np.sign(np.mean(model_preds,axis = 0))\n",
    "        return y_test_pred.astype(int)\n",
    "            \n",
    "#         accuracy = accuracy_score(y_test, y_test_pred)\n",
    "#         f1_score = f1_score(y_test, y_test_pred, average='weighted')\n",
    "\n"
   ]
  },
  {
   "cell_type": "code",
   "execution_count": 4,
   "metadata": {},
   "outputs": [
    {
     "name": "stdout",
     "output_type": "stream",
     "text": [
      "Accuracy with Bagging: 0.7995\n",
      "F1 Score with Bagging: 0.7912\n"
     ]
    }
   ],
   "source": [
    "BaggingClassifier = Bagging_classifier(type_classifier=\"DecisionTree\")\n",
    "\n",
    "BaggingClassifier.fit(X_train, y_train)\n",
    "\n",
    "Bagging_pred = BaggingClassifier.predict(X_test)\n",
    "print('Accuracy with Bagging: %.4f' % (np.shape(np.where(y_test.flatten()==Bagging_pred))[1]/np.shape(y_test.flatten())[0]))\n",
    "print('F1 Score with Bagging: %.4f' % (f1_score(y_test, Bagging_pred, average='weighted')))\n"
   ]
  },
  {
   "cell_type": "code",
   "execution_count": null,
   "metadata": {},
   "outputs": [],
   "source": []
  }
 ],
 "metadata": {
  "kernelspec": {
   "display_name": "Python 3",
   "language": "python",
   "name": "python3"
  },
  "language_info": {
   "codemirror_mode": {
    "name": "ipython",
    "version": 3
   },
   "file_extension": ".py",
   "mimetype": "text/x-python",
   "name": "python",
   "nbconvert_exporter": "python",
   "pygments_lexer": "ipython3",
   "version": "3.7.3"
  }
 },
 "nbformat": 4,
 "nbformat_minor": 2
}
