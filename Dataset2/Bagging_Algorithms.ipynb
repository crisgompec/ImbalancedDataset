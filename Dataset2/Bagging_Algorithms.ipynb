{
 "cells": [
  {
   "cell_type": "code",
   "execution_count": 1,
   "metadata": {},
   "outputs": [],
   "source": [
    "import numpy as np\n",
    "import matplotlib.pyplot as plt\n",
    "from sklearn.model_selection import train_test_split\n",
    "from sklearn.metrics import accuracy_score\n",
    "import pandas as pd\n",
    "from sklearn.metrics import f1_score, roc_curve, accuracy_score\n",
    "from sklearn.naive_bayes import GaussianNB\n",
    "from sklearn.tree import DecisionTreeClassifier\n",
    "from sklearn.metrics import f1_score, roc_curve\n",
    "from sklearn.pipeline import make_pipeline\n",
    "from sklearn.preprocessing import StandardScaler\n",
    "from sklearn.svm import SVC\n",
    "from sklearn.neighbors import KNeighborsClassifier\n",
    "import random"
   ]
  },
  {
   "cell_type": "code",
   "execution_count": 2,
   "metadata": {},
   "outputs": [],
   "source": [
    "data = pd.read_pickle(\"./data.pkl\")\n",
    "\n",
    "# split data into X and y\n",
    "X = data.loc[:, data.columns != 'bot']\n",
    "Y = data.loc[:, data.columns == 'bot'].to_numpy()\n",
    "\n",
    "# split data into train and test sets\n",
    "seed = 10\n",
    "test_size = 0.33\n",
    "X_train, X_test, y_train, y_test = train_test_split(X, Y, test_size=test_size, random_state=seed)\n",
    "\n",
    "dataset_train = np.concatenate((X_train.to_numpy(), y_train),axis = 1)"
   ]
  },
  {
   "cell_type": "code",
   "execution_count": 21,
   "metadata": {},
   "outputs": [],
   "source": [
    "# Number of classifiers to aggregate\n",
    "\n",
    "num_classifiers = 20\n",
    "\n",
    "ratio = 0.1 #Ratio Bootstrapped dataset/ original dataset\n",
    "\n",
    "N = np.shape(dataset_train)[0]\n",
    "\n",
    "# Initialize accuracy vectors\n",
    "\n",
    "decision_tree_accuracy = []\n",
    "KNN_accuracy = []\n",
    "SVM_accuracy = []\n",
    "GNB_accuracy = []\n",
    "\n",
    "decision_tree_f1_score = []\n",
    "KNN_f1_score = []\n",
    "SVM_f1_score = []\n",
    "GNB_f1_score = []\n",
    "\n",
    "\n",
    "for classifier_iteration in range(num_classifiers):\n",
    "    \n",
    "    dataset_train_undersampled = dataset_train[random.sample(range(1,N),int(ratio*N)), :]\n",
    "    \n",
    "    X_train_undersampled = dataset_train_undersampled[:,0:59]\n",
    "    y_train_undersampled = dataset_train_undersampled[:,59].astype(int)\n",
    "    \n",
    "    \n",
    "    ### Train different algorithms\n",
    "    \n",
    "    # Decision tree\n",
    "    decision_tree = DecisionTreeClassifier(max_depth=1, max_leaf_nodes=2)\n",
    "    decision_tree_model = decision_tree.fit(X_train_undersampled, y_train_undersampled)\n",
    "    \n",
    "    decision_tree_pred = decision_tree_model.predict(X_test)\n",
    "    \n",
    "    decision_tree_accuracy.append(accuracy_score(y_test, decision_tree_pred))\n",
    "    \n",
    "    decision_tree_f1_score.append(f1_score(y_test, decision_tree_pred,average='weighted'))\n",
    "    \n",
    "    # K-NN\n",
    "    KNN = KNeighborsClassifier(n_neighbors=3)\n",
    "    KNN_model = KNN.fit(X_train_undersampled, y_train_undersampled)\n",
    "    \n",
    "    KNN_pred = KNN_model.predict(X_test)\n",
    "    \n",
    "    KNN_accuracy.append(accuracy_score(y_test, KNN_pred))\n",
    "    \n",
    "    KNN_f1_score.append(f1_score(y_test, KNN_pred,average='weighted'))\n",
    "    \n",
    "    # SVM\n",
    "    SVM = make_pipeline(StandardScaler(), SVC(gamma='auto'))\n",
    "    SVM_model = SVM.fit(X_train_undersampled, y_train_undersampled)\n",
    "    \n",
    "    SVM_pred = SVM_model.predict(X_test)\n",
    "    \n",
    "    SVM_accuracy.append(accuracy_score(y_test, SVM_pred))\n",
    "    \n",
    "    SVM_f1_score.append(f1_score(y_test, SVM_pred,average='weighted'))\n",
    "    \n",
    "    # Bayes    \n",
    "    GNB = GaussianNB()\n",
    "    GNB_model = GNB.fit(X_train_undersampled, y_train_undersampled)\n",
    "    \n",
    "    GNB_pred = GNB_model.predict(X_test)\n",
    "    \n",
    "    GNB_accuracy.append(accuracy_score(y_test, GNB_pred))\n",
    "    \n",
    "    GNB_f1_score.append(f1_score(y_test, GNB_pred,average='weighted'))\n",
    "    \n",
    "    \n",
    "    \n",
    "    "
   ]
  },
  {
   "cell_type": "code",
   "execution_count": 22,
   "metadata": {},
   "outputs": [
    {
     "name": "stdout",
     "output_type": "stream",
     "text": [
      "Decision tree accuracy: 0.7987049028677149\n",
      "KNN accuracy: 0.7015058073799981\n",
      "SVM accuracy: 0.7684551341350601\n",
      "Gaussian NB accuracy: 0.7095436324390996\n"
     ]
    }
   ],
   "source": [
    "print(\"Decision tree accuracy: \"+str(sum(decision_tree_accuracy) / len(decision_tree_accuracy)))\n",
    "print(\"KNN accuracy: \"+str(sum(KNN_accuracy) / len(KNN_accuracy)))\n",
    "print(\"SVM accuracy: \"+str(sum(SVM_accuracy) / len(SVM_accuracy)))\n",
    "print(\"Gaussian NB accuracy: \"+str(sum(GNB_accuracy) / len(GNB_accuracy)))"
   ]
  },
  {
   "cell_type": "code",
   "execution_count": 23,
   "metadata": {},
   "outputs": [
    {
     "name": "stdout",
     "output_type": "stream",
     "text": [
      "Decision tree F1 score: 0.7900923672862227\n",
      "KNN F1 score: 0.6873391436392572\n",
      "SVM F1 score: 0.7340907038358309\n",
      "Gaussian NB F1 score: 0.6781254118200644\n"
     ]
    }
   ],
   "source": [
    "print(\"Decision tree F1 score: \"+str(sum(decision_tree_f1_score) / len(decision_tree_f1_score)))\n",
    "print(\"KNN F1 score: \"+str(sum(KNN_f1_score) / len(KNN_f1_score)))\n",
    "print(\"SVM F1 score: \"+str(sum(SVM_f1_score) / len(SVM_f1_score)))\n",
    "print(\"Gaussian NB F1 score: \"+str(sum(GNB_f1_score) / len(GNB_f1_score)))"
   ]
  }
 ],
 "metadata": {
  "kernelspec": {
   "display_name": "Python 3",
   "language": "python",
   "name": "python3"
  },
  "language_info": {
   "codemirror_mode": {
    "name": "ipython",
    "version": 3
   },
   "file_extension": ".py",
   "mimetype": "text/x-python",
   "name": "python",
   "nbconvert_exporter": "python",
   "pygments_lexer": "ipython3",
   "version": "3.7.3"
  }
 },
 "nbformat": 4,
 "nbformat_minor": 2
}
