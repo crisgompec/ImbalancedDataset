{
 "cells": [
  {
   "cell_type": "code",
   "execution_count": 1,
   "metadata": {},
   "outputs": [],
   "source": [
    "import numpy as np\n",
    "from scipy.stats import multivariate_normal as Normal\n",
    "from matplotlib import pyplot as plt\n",
    "from mpl_toolkits.mplot3d import Axes3D\n",
    "from matplotlib import cm\n",
    "from sklearn.model_selection import train_test_split\n",
    "from sklearn.metrics import accuracy_score\n",
    "from matplotlib.colors import LinearSegmentedColormap\n",
    "from sklearn.naive_bayes import GaussianNB\n",
    "from math import sqrt\n",
    "from sklearn import metrics\n",
    "from sklearn.metrics import f1_score, roc_curve, precision_score, recall_score\n",
    "from tqdm import tqdm\n",
    "import pandas as pd\n",
    "import random"
   ]
  },
  {
   "cell_type": "code",
   "execution_count": 2,
   "metadata": {},
   "outputs": [],
   "source": [
    "def auc_score(y_true,y_pred):\n",
    "    fpr, tpr, thresholds = metrics.roc_curve(y_true, y_pred, pos_label=1)\n",
    "    return metrics.auc(fpr, tpr)"
   ]
  },
  {
   "cell_type": "code",
   "execution_count": 3,
   "metadata": {},
   "outputs": [],
   "source": [
    "def print_metrics(name_algortihm, classifier):\n",
    "    print(name_algortihm)\n",
    "    print(\"F1 score: \" + str(f1_score(y_test,classifier.predict(X_test))))\n",
    "    print(\"Accuracy: \" + str(accuracy_score(y_test,classifier.predict(X_test))))\n",
    "    print(\"Precision: \" + str(precision_score(y_test, classifier.predict(X_test))))\n",
    "    print(\"Recall: \" + str(recall_score(y_test, classifier.predict(X_test))))\n",
    "    print(\"AUC: \" + str(auc_score(y_test, classifier.predict(X_test))))"
   ]
  },
  {
   "cell_type": "code",
   "execution_count": 4,
   "metadata": {},
   "outputs": [],
   "source": [
    "data = pd.read_pickle(\"./data.pkl\")"
   ]
  },
  {
   "cell_type": "code",
   "execution_count": 5,
   "metadata": {},
   "outputs": [],
   "source": [
    "categorical_columns = [data.columns.get_loc(c) for c in data.select_dtypes(exclude=[\"number\"]).columns if c in data]\n",
    "\n",
    "# split data into X and y\n",
    "X = data.loc[:, data.columns != 'bot']\n",
    "Y = data.loc[:, data.columns == 'bot'].to_numpy()\n",
    "\n",
    "# split data into train and test sets\n",
    "seed = 10\n",
    "test_size = 0.33\n",
    "X_train, X_test, y_train, y_test = train_test_split(X, Y, test_size=test_size, random_state=seed)"
   ]
  },
  {
   "cell_type": "code",
   "execution_count": 6,
   "metadata": {},
   "outputs": [
    {
     "name": "stderr",
     "output_type": "stream",
     "text": [
      "/home/miguel/anaconda3/lib/python3.7/site-packages/sklearn/utils/validation.py:72: DataConversionWarning: A column-vector y was passed when a 1d array was expected. Please change the shape of y to (n_samples, ), for example using ravel().\n",
      "  return f(**kwargs)\n"
     ]
    }
   ],
   "source": [
    "# Base case\n",
    "\n",
    "gaussianNB_model = GaussianNB()\n",
    "gaussianNB_model.fit(X_train,y_train)\n",
    "\n",
    "f1_base_bayes = f1_score(y_test,gaussianNB_model.predict(X_test))"
   ]
  },
  {
   "cell_type": "code",
   "execution_count": 7,
   "metadata": {},
   "outputs": [],
   "source": [
    "# Undersampling of training set\n",
    "\n",
    "X_train_majority = X_train[y_train < 1] # human (non-bots) => label 0 : are majority\n",
    "X_train_minority = X_train[y_train > 0]\n",
    "\n",
    "N = np.shape(y_train)[0]\n",
    "\n",
    "pi_mi = y_train.sum()/np.shape(y_train)[0]\n",
    "\n",
    "X_train_majority = X_train_majority.to_numpy()\n",
    "X_train_minority = X_train_minority.to_numpy()\n",
    "\n",
    "y_test = np.where(y_test < 0.5, -1, 1)\n",
    "\n",
    "y_train = y_train.flatten()\n",
    "y_test = y_test.flatten()"
   ]
  },
  {
   "cell_type": "code",
   "execution_count": 8,
   "metadata": {},
   "outputs": [
    {
     "name": "stderr",
     "output_type": "stream",
     "text": [
      "\r",
      "  0%|          | 0/12 [00:00<?, ?it/s]"
     ]
    },
    {
     "name": "stdout",
     "output_type": "stream",
     "text": [
      "0.1\n",
      "F1 score: 0.4198473282442748\n",
      "Accuracy: 0.26570048309178745\n",
      "Precision: 0.26570048309178745\n",
      "Recall: 1.0\n"
     ]
    },
    {
     "name": "stderr",
     "output_type": "stream",
     "text": [
      "\r",
      "  8%|▊         | 1/12 [00:00<00:03,  3.14it/s]"
     ]
    },
    {
     "name": "stdout",
     "output_type": "stream",
     "text": [
      "AUC: 0.5\n",
      "0.15\n",
      "F1 score: 0.4198473282442748\n",
      "Accuracy: 0.26570048309178745\n"
     ]
    },
    {
     "name": "stderr",
     "output_type": "stream",
     "text": [
      "\r",
      " 17%|█▋        | 2/12 [00:00<00:03,  3.23it/s]"
     ]
    },
    {
     "name": "stdout",
     "output_type": "stream",
     "text": [
      "Precision: 0.26570048309178745\n",
      "Recall: 1.0\n",
      "AUC: 0.5\n",
      "0.2\n"
     ]
    },
    {
     "name": "stderr",
     "output_type": "stream",
     "text": [
      "\r",
      " 25%|██▌       | 3/12 [00:00<00:02,  3.29it/s]"
     ]
    },
    {
     "name": "stdout",
     "output_type": "stream",
     "text": [
      "F1 score: 0.4198473282442748\n",
      "Accuracy: 0.26570048309178745\n",
      "Precision: 0.26570048309178745\n",
      "Recall: 1.0\n",
      "AUC: 0.5\n",
      "0.25\n",
      "F1 score: 0.4198473282442748\n",
      "Accuracy: 0.26570048309178745\n",
      "Precision: 0.26570048309178745\n",
      "Recall: 1.0\n"
     ]
    },
    {
     "name": "stderr",
     "output_type": "stream",
     "text": [
      "\r",
      " 33%|███▎      | 4/12 [00:01<00:02,  3.18it/s]"
     ]
    },
    {
     "name": "stdout",
     "output_type": "stream",
     "text": [
      "AUC: 0.5\n",
      "0.3\n",
      "F1 score: 0.2973977695167286\n"
     ]
    },
    {
     "name": "stderr",
     "output_type": "stream",
     "text": [
      "\r",
      " 42%|████▏     | 5/12 [00:01<00:02,  3.16it/s]"
     ]
    },
    {
     "name": "stdout",
     "output_type": "stream",
     "text": [
      "Accuracy: 0.7086031452358927\n",
      "Precision: 0.41379310344827586\n",
      "Recall: 0.23210831721470018\n",
      "AUC: 0.5565636770843938\n",
      "0.4\n",
      "F1 score: 0.2973977695167286\n",
      "Accuracy: 0.7086031452358927\n",
      "Precision: 0.41379310344827586\n",
      "Recall: 0.23210831721470018\n",
      "AUC: 0.5565636770843938\n"
     ]
    },
    {
     "name": "stderr",
     "output_type": "stream",
     "text": [
      "\r",
      " 50%|█████     | 6/12 [00:01<00:01,  3.15it/s]"
     ]
    },
    {
     "name": "stdout",
     "output_type": "stream",
     "text": [
      "0.5\n",
      "F1 score: 0.2973977695167286\n",
      "Accuracy: 0.7086031452358927\n",
      "Precision: 0.41379310344827586\n",
      "Recall: 0.23210831721470018\n",
      "AUC: 0.5565636770843938\n"
     ]
    },
    {
     "name": "stderr",
     "output_type": "stream",
     "text": [
      "\r",
      " 58%|█████▊    | 7/12 [00:02<00:01,  3.03it/s]"
     ]
    },
    {
     "name": "stdout",
     "output_type": "stream",
     "text": [
      "0.6\n",
      "F1 score: 0.2973977695167286\n",
      "Accuracy: 0.7086031452358927\n",
      "Precision: 0.41379310344827586\n",
      "Recall: 0.23210831721470018\n",
      "AUC: 0.5565636770843938\n"
     ]
    },
    {
     "name": "stderr",
     "output_type": "stream",
     "text": [
      "\r",
      " 67%|██████▋   | 8/12 [00:02<00:01,  2.92it/s]"
     ]
    },
    {
     "name": "stdout",
     "output_type": "stream",
     "text": [
      "0.7\n",
      "F1 score: 0.2973977695167286\n",
      "Accuracy: 0.7086031452358927\n",
      "Precision: 0.41379310344827586\n"
     ]
    },
    {
     "name": "stderr",
     "output_type": "stream",
     "text": [
      "\r",
      " 75%|███████▌  | 9/12 [00:03<00:01,  2.58it/s]"
     ]
    },
    {
     "name": "stdout",
     "output_type": "stream",
     "text": [
      "Recall: 0.23210831721470018\n",
      "AUC: 0.5565636770843938\n",
      "0.8\n",
      "F1 score: 0.2973977695167286\n",
      "Accuracy: 0.7086031452358927\n",
      "Precision: 0.41379310344827586\n",
      "Recall: 0.23210831721470018\n",
      "AUC: 0.5565636770843938\n"
     ]
    },
    {
     "name": "stderr",
     "output_type": "stream",
     "text": [
      "\r",
      " 83%|████████▎ | 10/12 [00:03<00:00,  2.35it/s]"
     ]
    },
    {
     "name": "stdout",
     "output_type": "stream",
     "text": [
      "0.9\n",
      "F1 score: 0.2973977695167286\n",
      "Accuracy: 0.7086031452358927\n",
      "Precision: 0.41379310344827586\n",
      "Recall: 0.23210831721470018\n"
     ]
    },
    {
     "name": "stderr",
     "output_type": "stream",
     "text": [
      "\r",
      " 92%|█████████▏| 11/12 [00:04<00:00,  2.38it/s]"
     ]
    },
    {
     "name": "stdout",
     "output_type": "stream",
     "text": [
      "AUC: 0.5565636770843938\n",
      "0.99999\n",
      "F1 score: 0.2973977695167286\n",
      "Accuracy: 0.7086031452358927\n",
      "Precision: 0.41379310344827586\n",
      "Recall: 0.23210831721470018\n",
      "AUC: 0.5565636770843938\n"
     ]
    },
    {
     "name": "stderr",
     "output_type": "stream",
     "text": [
      "100%|██████████| 12/12 [00:04<00:00,  2.37it/s]\n"
     ]
    }
   ],
   "source": [
    "betas = [0.1,0.15, 0.2, 0.25, 0.3, 0.4, 0.5, 0.6, 0.7, 0.8, 0.9, 0.99999]\n",
    "# betas = [0.9]\n",
    "f1scores_under = []\n",
    "accuracy_under = []\n",
    "   \n",
    "for Beta in tqdm(betas):\n",
    "    \n",
    "    X_train_majority_undersampled = X_train_majority[random.sample(range(1, int((1-pi_mi)*N)),int(Beta*(1-pi_mi)*N)), :]\n",
    "    X_train = np.r_[X_train_majority_undersampled,X_train_minority]\n",
    "    y_train = np.r_[[-1]*len(X_train_majority_undersampled), [1]*len(X_train_minority)]\n",
    "    \n",
    "    gaussianNB_model = GaussianNB()\n",
    "    gaussianNB_model.fit(X_train,y_train)\n",
    "    \n",
    "    print_metrics(Beta,gaussianNB_model)\n",
    "    \n",
    "    f1scores_under.append(f1_score(y_test,gaussianNB_model.predict(X_test)))\n",
    "    \n",
    "    \n",
    "    \n"
   ]
  },
  {
   "cell_type": "code",
   "execution_count": 9,
   "metadata": {},
   "outputs": [
    {
     "data": {
      "image/png": "[encoded data removed]",
      "text/plain": [
       "<Figure size 432x288 with 2 Axes>"
      ]
     },
     "metadata": {
      "needs_background": "light"
     },
     "output_type": "display_data"
    }
   ],
   "source": [
    "# Plot results\n",
    "plt.close()\n",
    "fig = plt.figure()\n",
    "\n",
    "ax1 = plt.subplot(111)\n",
    "plt.grid(True,which='major',linewidth=0.5)\n",
    "plt.grid(True,which='minor',linewidth=0.1)\n",
    "#plt.plot(betas,f1scores_knn,'-o',color='tab:blue',label='KKN Classification')\n",
    "plt.plot(betas,f1scores_under,'-o',color='tab:red',label='Naive-Bayes Classification')\n",
    "ax1.set(title='F1-score vs. Beta', xlabel = 'Beta', ylabel = 'F1 Score')\n",
    "plt.legend(loc='lower right')\n",
    "plt.legend()\n",
    "\n",
    "ax2 = ax1.twinx()\n",
    "#plt.plot(betas,(f1scores_knn-f1_base_knn)/f1_base_knn*100,'o',color='tab:blue')\n",
    "plt.plot(betas,(f1scores_under-f1_base_bayes)/f1_base_bayes*100,'o',color='tab:red')\n",
    "ax2.set_ylabel('F1 Score increase (%)')\n",
    "plt.show()\n",
    "# print(f1scores_under)\n",
    "# print(betas)"
   ]
  },
  {
   "cell_type": "code",
   "execution_count": 10,
   "metadata": {},
   "outputs": [
    {
     "data": {
      "text/plain": [
       "0.2973977695167286"
      ]
     },
     "execution_count": 10,
     "metadata": {},
     "output_type": "execute_result"
    }
   ],
   "source": [
    "f1_base_bayes"
   ]
  }
 ],
 "metadata": {
  "kernelspec": {
   "display_name": "Python 3",
   "language": "python",
   "name": "python3"
  },
  "language_info": {
   "codemirror_mode": {
    "name": "ipython",
    "version": 3
   },
   "file_extension": ".py",
   "mimetype": "text/x-python",
   "name": "python",
   "nbconvert_exporter": "python",
   "pygments_lexer": "ipython3",
   "version": "3.7.3"
  }
 },
 "nbformat": 4,
 "nbformat_minor": 2
}
